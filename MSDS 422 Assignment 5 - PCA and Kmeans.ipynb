{
 "cells": [
  {
   "cell_type": "code",
   "execution_count": 1,
   "metadata": {},
   "outputs": [],
   "source": [
    "from sklearn.ensemble import RandomForestClassifier,RandomForestRegressor,GradientBoostingRegressor\n",
    "from sklearn.model_selection import cross_val_score\n",
    "from sklearn import preprocessing\n",
    "import pandas as pd\n",
    "from sklearn.decomposition import PCA\n",
    "import numpy as np\n",
    "import matplotlib.pyplot as plt\n",
    "import datetime\n",
    "from sklearn import metrics\n",
    "train = pd.read_csv(r'C:\\Users\\Aaron\\train.csv')\n",
    "test = pd.read_csv(r'C:\\Users\\Aaron\\test.csv')"
   ]
  },
  {
   "cell_type": "code",
   "execution_count": 2,
   "metadata": {},
   "outputs": [
    {
     "name": "stdout",
     "output_type": "stream",
     "text": [
      "0:00:02.499349\n"
     ]
    }
   ],
   "source": [
    "begin_time = datetime.datetime.now()\n",
    "\n",
    "y_train = train['label']\n",
    "X_train = train.drop('label',axis=1)\n",
    "\n",
    "y_test = train['label']\n",
    "X_test = train.drop('label',axis=1)\n",
    "\n",
    "#lab_enc = preprocessing.LabelEncoder()\n",
    "\n",
    "#y_train = lab_enc.fit_transform(y_train)\n",
    "#y_test = lab_enc.fit_transform(y_test)\n",
    "rf_Model = RandomForestClassifier(n_estimators = 10 , max_features = 'sqrt', bootstrap = True ,random_state=45)\n",
    "rf_model = rf_Model.fit(X_train,y_train)\n",
    "\n",
    "print(datetime.datetime.now() - begin_time)"
   ]
  },
  {
   "cell_type": "code",
   "execution_count": 3,
   "metadata": {},
   "outputs": [
    {
     "data": {
      "text/plain": [
       "0.9402624814122753"
      ]
     },
     "metadata": {},
     "output_type": "display_data"
    },
    {
     "data": {
      "text/plain": [
       "0.0021943311686954316"
      ]
     },
     "metadata": {},
     "output_type": "display_data"
    },
    {
     "name": "stdout",
     "output_type": "stream",
     "text": [
      "0:00:09.728990\n"
     ]
    }
   ],
   "source": [
    "begin_time = datetime.datetime.now()\n",
    "\n",
    "from sklearn.model_selection import cross_val_score\n",
    "scores = cross_val_score(rf_model, X_test, y_test, cv=5)\n",
    "display(scores.mean())\n",
    "display(scores.std())\n",
    "\n",
    "print(datetime.datetime.now() - begin_time)\n"
   ]
  },
  {
   "cell_type": "code",
   "execution_count": 4,
   "metadata": {},
   "outputs": [],
   "source": [
    "# Save Classifier for Kaggle\n",
    "X_test = test\n",
    "#pd.DataFrame(rf_model.predict(X_test)).to_csv('RFC_First.csv')"
   ]
  },
  {
   "cell_type": "code",
   "execution_count": 5,
   "metadata": {},
   "outputs": [],
   "source": [
    "# Principal Component Analysis\n",
    "x = X_test.append(X_train)\n",
    "\n",
    "pca =PCA(n_components = 20)\n",
    "pca.fit(x)\n",
    "pca_data = pca.transform(x)\n",
    "\n",
    "per_var = np.round(pca.explained_variance_ratio_* 100, decimals=1)\n"
   ]
  },
  {
   "cell_type": "code",
   "execution_count": 6,
   "metadata": {},
   "outputs": [
    {
     "data": {
      "image/png": "[encoded data removed]",
      "text/plain": [
       "<Figure size 720x720 with 1 Axes>"
      ]
     },
     "metadata": {
      "needs_background": "light"
     },
     "output_type": "display_data"
    }
   ],
   "source": [
    "labels = ['PC' + str(x) for x in range(1, len(per_var)+1)]\n",
    "\n",
    "\n",
    "plt.figure(figsize=(10,10))\n",
    "plt.bar(x=range(1,len(per_var)+1), height=per_var, tick_label=labels)\n",
    "plt.ylabel('Percentage of Explained Variance')\n",
    "plt.xlabel('Principal Component')\n",
    "plt.title('Scree Plot')\n",
    "plt.show()"
   ]
  },
  {
   "cell_type": "code",
   "execution_count": 7,
   "metadata": {},
   "outputs": [
    {
     "data": {
      "text/plain": [
       "array(['pixel523', 'pixel550', 'pixel551', 'pixel495', 'pixel578',\n",
       "       'pixel496', 'pixel577', 'pixel468', 'pixel522', 'pixel524',\n",
       "       'pixel440', 'pixel467', 'pixel412', 'pixel428', 'pixel400',\n",
       "       'pixel456', 'pixel549', 'pixel483', 'pixel568', 'pixel455'],\n",
       "      dtype=object)"
      ]
     },
     "execution_count": 7,
     "metadata": {},
     "output_type": "execute_result"
    }
   ],
   "source": [
    "# How many eigen values to use?\n",
    "pixel = ['pixel' + str(i) for i in range (0,784)]\n",
    "pixel\n",
    "loading_scores = pd.Series(pca.components_[0], index=pixel)\n",
    "loading_scores\n",
    "sorted_loading_scores = loading_scores.abs().sort_values(ascending=False)\n",
    "top_10_pixels = sorted_loading_scores[0:20].index.values\n",
    "top_10_pixels"
   ]
  },
  {
   "cell_type": "code",
   "execution_count": 8,
   "metadata": {},
   "outputs": [
    {
     "name": "stdout",
     "output_type": "stream",
     "text": [
      "0:00:00.565488\n"
     ]
    }
   ],
   "source": [
    "# 20 variable Classifier\n",
    "begin_time = datetime.datetime.now()\n",
    "y_train = train['label']\n",
    "X_train = train[['pixel523', 'pixel550', 'pixel551', 'pixel578', 'pixel495',\n",
    "       'pixel496', 'pixel468', 'pixel577', 'pixel522', 'pixel524',\n",
    "       'pixel440', 'pixel467', 'pixel412', 'pixel568', 'pixel456',\n",
    "       'pixel483', 'pixel428', 'pixel484', 'pixel400', 'pixel455']]\n",
    "rf_Model = RandomForestClassifier(n_estimators = 10 , max_features = 'sqrt', bootstrap = True ,random_state=45)\n",
    "rf_model = rf_Model.fit(X_train,y_train)\n",
    "\n",
    "print(datetime.datetime.now() - begin_time)"
   ]
  },
  {
   "cell_type": "code",
   "execution_count": null,
   "metadata": {},
   "outputs": [],
   "source": []
  },
  {
   "cell_type": "code",
   "execution_count": 9,
   "metadata": {},
   "outputs": [],
   "source": [
    "# Save classifier\n",
    "X_test_20 = test[['pixel523', 'pixel550', 'pixel551', 'pixel578', 'pixel495',\n",
    "       'pixel496', 'pixel468', 'pixel577', 'pixel522', 'pixel524',\n",
    "       'pixel440', 'pixel467', 'pixel412', 'pixel568', 'pixel456',\n",
    "       'pixel483', 'pixel428', 'pixel484', 'pixel400', 'pixel455']]\n",
    "#pd.DataFrame(rf_model.predict(X_test_20)).to_csv('RFC_2OV.csv')\n",
    "#58.5% accuracy. Values with eigen values greater than 1"
   ]
  },
  {
   "cell_type": "code",
   "execution_count": 10,
   "metadata": {},
   "outputs": [
    {
     "name": "stdout",
     "output_type": "stream",
     "text": [
      "0:00:00.423891\n"
     ]
    }
   ],
   "source": [
    "#10 variable Classifier\n",
    "begin_time = datetime.datetime.now()\n",
    "y_train1 = train['label']\n",
    "X_train1 = train[['pixel523', 'pixel550', 'pixel551', 'pixel578', 'pixel495',\n",
    "       'pixel496', 'pixel468', 'pixel577', 'pixel522', 'pixel524']]\n",
    "rf_Model1 = RandomForestClassifier(n_estimators = 10 , max_features = 'sqrt', bootstrap = True ,random_state=45)\n",
    "rf_model1 = rf_Model1.fit(X_train1,y_train1)\n",
    "\n",
    "print(datetime.datetime.now() - begin_time)\n"
   ]
  },
  {
   "cell_type": "code",
   "execution_count": null,
   "metadata": {},
   "outputs": [],
   "source": []
  },
  {
   "cell_type": "code",
   "execution_count": 11,
   "metadata": {},
   "outputs": [],
   "source": [
    "# Save Classifier\n",
    "X_test_10 = test[['pixel523', 'pixel550', 'pixel551', 'pixel578', 'pixel495',\n",
    "       'pixel496', 'pixel468', 'pixel577', 'pixel522', 'pixel524']]\n",
    "#pd.DataFrame(rf_model1.predict(X_test_10)).to_csv('RFC_1OV.csv')\n",
    "#38.8% accuracy"
   ]
  },
  {
   "cell_type": "code",
   "execution_count": null,
   "metadata": {},
   "outputs": [],
   "source": []
  },
  {
   "cell_type": "code",
   "execution_count": 12,
   "metadata": {},
   "outputs": [
    {
     "data": {
      "text/plain": [
       "array([[0., 0., 0., ..., 0., 0., 0.],\n",
       "       [0., 0., 0., ..., 0., 0., 0.],\n",
       "       [0., 0., 0., ..., 0., 0., 0.],\n",
       "       ...,\n",
       "       [0., 0., 0., ..., 0., 0., 0.],\n",
       "       [0., 0., 0., ..., 0., 0., 0.],\n",
       "       [0., 0., 0., ..., 0., 0., 0.]])"
      ]
     },
     "execution_count": 12,
     "metadata": {},
     "output_type": "execute_result"
    }
   ],
   "source": [
    "# Doing it the right way\n",
    "from sklearn import preprocessing \n",
    "from sklearn.model_selection import train_test_split\n",
    "\n",
    "x = train.drop('label',axis=1)\n",
    "\n",
    "# Standard Scaling\n",
    "scaler = preprocessing.MinMaxScaler()\n",
    "scaler.fit(x)\n",
    "scaled_data = scaler.transform(x) #May need to transpose? df.T\n",
    "scaled_data"
   ]
  },
  {
   "cell_type": "code",
   "execution_count": 13,
   "metadata": {},
   "outputs": [],
   "source": [
    "# PCA Analysis\n",
    "\n",
    "pca =PCA()\n",
    "pca.fit(scaled_data)\n",
    "pca_data = pca.transform(scaled_data)\n",
    "\n",
    "per_var = np.round(pca.explained_variance_ratio_* 100, decimals=1)"
   ]
  },
  {
   "cell_type": "code",
   "execution_count": 14,
   "metadata": {},
   "outputs": [
    {
     "data": {
      "text/plain": [
       "array(['pixel523', 'pixel550', 'pixel551', 'pixel578', 'pixel495',\n",
       "       'pixel496', 'pixel468', 'pixel577', 'pixel522', 'pixel524',\n",
       "       'pixel440', 'pixel467', 'pixel412', 'pixel568', 'pixel456',\n",
       "       'pixel483', 'pixel428', 'pixel484', 'pixel400', 'pixel455',\n",
       "       'pixel540', 'pixel511', 'pixel549', 'pixel384', 'pixel512',\n",
       "       'pixel372', 'pixel539', 'pixel441', 'pixel605', 'pixel439',\n",
       "       'pixel427', 'pixel469', 'pixel597', 'pixel413', 'pixel596',\n",
       "       'pixel579', 'pixel345', 'pixel567', 'pixel356', 'pixel385',\n",
       "       'pixel552', 'pixel569', 'pixel344', 'pixel411', 'pixel317',\n",
       "       'pixel373', 'pixel357', 'pixel497', 'pixel399', 'pixel604',\n",
       "       'pixel494', 'pixel328', 'pixel329', 'pixel576', 'pixel462',\n",
       "       'pixel434', 'pixel606', 'pixel383', 'pixel401', 'pixel300',\n",
       "       'pixel208', 'pixel290', 'pixel598', 'pixel318', 'pixel289',\n",
       "       'pixel207', 'pixel301', 'pixel371', 'pixel181', 'pixel180',\n",
       "       'pixel541', 'pixel316', 'pixel235', 'pixel595', 'pixel262',\n",
       "       'pixel490', 'pixel272', 'pixel406', 'pixel510', 'pixel482',\n",
       "       'pixel429', 'pixel525', 'pixel538', 'pixel346', 'pixel625',\n",
       "       'pixel244', 'pixel454', 'pixel457', 'pixel485', 'pixel513',\n",
       "       'pixel234', 'pixel273', 'pixel263', 'pixel407', 'pixel466',\n",
       "       'pixel521', 'pixel182', 'pixel355', 'pixel626', 'pixel414',\n",
       "       'pixel386', 'pixel435', 'pixel379', 'pixel442', 'pixel215',\n",
       "       'pixel566', 'pixel358', 'pixel624', 'pixel461', 'pixel186',\n",
       "       'pixel426', 'pixel261', 'pixel343', 'pixel603', 'pixel489',\n",
       "       'pixel351', 'pixel179', 'pixel216', 'pixel378', 'pixel209',\n",
       "       'pixel236', 'pixel291', 'pixel433', 'pixel463', 'pixel470',\n",
       "       'pixel323', 'pixel580', 'pixel187', 'pixel330', 'pixel570',\n",
       "       'pixel374', 'pixel154', 'pixel155', 'pixel206', 'pixel185',\n",
       "       'pixel438', 'pixel156', 'pixel518', 'pixel183', 'pixel288',\n",
       "       'pixel243', 'pixel245', 'pixel517', 'pixel632', 'pixel607',\n",
       "       'pixel153', 'pixel599', 'pixel184', 'pixel327', 'pixel157',\n",
       "       'pixel319', 'pixel627', 'pixel295', 'pixel398', 'pixel410',\n",
       "       'pixel296', 'pixel324', 'pixel302', 'pixel553', 'pixel633',\n",
       "       'pixel350', 'pixel498', 'pixel214', 'pixel548', 'pixel271',\n",
       "       'pixel631', 'pixel405', 'pixel491', 'pixel233', 'pixel299',\n",
       "       'pixel188', 'pixel594', 'pixel158', 'pixel315', 'pixel152',\n",
       "       'pixel623', 'pixel402', 'pixel264', 'pixel217', 'pixel352',\n",
       "       'pixel347', 'pixel382', 'pixel370', 'pixel274', 'pixel178',\n",
       "       'pixel509', 'pixel628', 'pixel630', 'pixel537', 'pixel481',\n",
       "       'pixel210', 'pixel268', 'pixel260', 'pixel634', 'pixel322',\n",
       "       'pixel602', 'pixel542', 'pixel575', 'pixel526', 'pixel267',\n",
       "       'pixel493', 'pixel159', 'pixel600', 'pixel205', 'pixel629',\n",
       "       'pixel430', 'pixel415', 'pixel387', 'pixel453', 'pixel237',\n",
       "       'pixel151', 'pixel292', 'pixel545', 'pixel359', 'pixel565',\n",
       "       'pixel443', 'pixel380', 'pixel246', 'pixel458', 'pixel342',\n",
       "       'pixel375', 'pixel287', 'pixel608', 'pixel581', 'pixel213',\n",
       "       'pixel297', 'pixel514', 'pixel486', 'pixel127', 'pixel377',\n",
       "       'pixel128', 'pixel189', 'pixel654', 'pixel601', 'pixel488',\n",
       "       'pixel516', 'pixel331', 'pixel653', 'pixel425', 'pixel571',\n",
       "       'pixel294', 'pixel126', 'pixel471', 'pixel320', 'pixel232',\n",
       "       'pixel242', 'pixel546', 'pixel460', 'pixel622', 'pixel655',\n",
       "       'pixel519', 'pixel354', 'pixel129', 'pixel325', 'pixel160',\n",
       "       'pixel635', 'pixel177', 'pixel408', 'pixel554', 'pixel125',\n",
       "       'pixel652', 'pixel303', 'pixel218', 'pixel593', 'pixel397',\n",
       "       'pixel211', 'pixel150', 'pixel314', 'pixel499', 'pixel656',\n",
       "       'pixel436', 'pixel269', 'pixel465', 'pixel130', 'pixel212',\n",
       "       'pixel259', 'pixel432', 'pixel348', 'pixel204', 'pixel660',\n",
       "       'pixel124', 'pixel464', 'pixel403', 'pixel544', 'pixel275',\n",
       "       'pixel661', 'pixel659', 'pixel657', 'pixel369', 'pixel520',\n",
       "       'pixel658', 'pixel651', 'pixel437', 'pixel266', 'pixel265',\n",
       "       'pixel609', 'pixel190', 'pixel131', 'pixel527', 'pixel161',\n",
       "       'pixel240', 'pixel536', 'pixel349', 'pixel286', 'pixel582',\n",
       "       'pixel508', 'pixel149', 'pixel123', 'pixel636', 'pixel662',\n",
       "       'pixel176', 'pixel712', 'pixel231', 'pixel621', 'pixel564',\n",
       "       'pixel409', 'pixel416', 'pixel341', 'pixel247', 'pixel239',\n",
       "       'pixel713', 'pixel353', 'pixel388', 'pixel480', 'pixel711',\n",
       "       'pixel270', 'pixel444', 'pixel326', 'pixel360', 'pixel99',\n",
       "       'pixel714', 'pixel132', 'pixel555', 'pixel431', 'pixel100',\n",
       "       'pixel710', 'pixel452', 'pixel574', 'pixel472', 'pixel203',\n",
       "       'pixel122', 'pixel98', 'pixel592', 'pixel650', 'pixel332',\n",
       "       'pixel219', 'pixel663', 'pixel376', 'pixel238', 'pixel313',\n",
       "       'pixel572', 'pixel685', 'pixel258', 'pixel162', 'pixel492',\n",
       "       'pixel684', 'pixel543', 'pixel101', 'pixel148', 'pixel404',\n",
       "       'pixel715', 'pixel97', 'pixel424', 'pixel686', 'pixel610',\n",
       "       'pixel175', 'pixel637', 'pixel500', 'pixel709', 'pixel683',\n",
       "       'pixel191', 'pixel304', 'pixel298', 'pixel740', 'pixel102',\n",
       "       'pixel133', 'pixel121', 'pixel739', 'pixel741', 'pixel96',\n",
       "       'pixel583', 'pixel396', 'pixel664', 'pixel620', 'pixel285',\n",
       "       'pixel716', 'pixel230', 'pixel547', 'pixel293', 'pixel742',\n",
       "       'pixel381', 'pixel459', 'pixel528', 'pixel738', 'pixel103',\n",
       "       'pixel321', 'pixel687', 'pixel682', 'pixel368', 'pixel147',\n",
       "       'pixel649', 'pixel95', 'pixel202', 'pixel708', 'pixel163',\n",
       "       'pixel276', 'pixel174', 'pixel638', 'pixel743', 'pixel71',\n",
       "       'pixel120', 'pixel70', 'pixel72', 'pixel665', 'pixel611',\n",
       "       'pixel340', 'pixel737', 'pixel134', 'pixel104', 'pixel563',\n",
       "       'pixel535', 'pixel73', 'pixel69', 'pixel690', 'pixel556',\n",
       "       'pixel691', 'pixel94', 'pixel573', 'pixel717', 'pixel744',\n",
       "       'pixel591', 'pixel312', 'pixel257', 'pixel507', 'pixel146',\n",
       "       'pixel692', 'pixel736', 'pixel707', 'pixel248', 'pixel74',\n",
       "       'pixel68', 'pixel173', 'pixel220', 'pixel201', 'pixel192',\n",
       "       'pixel666', 'pixel105', 'pixel119', 'pixel689', 'pixel639',\n",
       "       'pixel648', 'pixel515', 'pixel93', 'pixel479', 'pixel619',\n",
       "       'pixel229', 'pixel745', 'pixel67', 'pixel693', 'pixel75',\n",
       "       'pixel584', 'pixel284', 'pixel135', 'pixel445', 'pixel417',\n",
       "       'pixel688', 'pixel681', 'pixel164', 'pixel145', 'pixel241',\n",
       "       'pixel735', 'pixel451', 'pixel249', 'pixel473', 'pixel277',\n",
       "       'pixel680', 'pixel92', 'pixel106', 'pixel679', 'pixel706',\n",
       "       'pixel66', 'pixel76', 'pixel389', 'pixel612', 'pixel118',\n",
       "       'pixel694', 'pixel423', 'pixel667', 'pixel720', 'pixel339',\n",
       "       'pixel172', 'pixel200', 'pixel367', 'pixel395', 'pixel746',\n",
       "       'pixel501', 'pixel361', 'pixel770', 'pixel65', 'pixel768',\n",
       "       'pixel767', 'pixel640', 'pixel719', 'pixel311', 'pixel769',\n",
       "       'pixel718', 'pixel734', 'pixel721', 'pixel647', 'pixel678',\n",
       "       'pixel77', 'pixel228', 'pixel221', 'pixel529', 'pixel771',\n",
       "       'pixel136', 'pixel91', 'pixel766', 'pixel144', 'pixel705',\n",
       "       'pixel250', 'pixel117', 'pixel256', 'pixel695', 'pixel64',\n",
       "       'pixel562', 'pixel107', 'pixel590', 'pixel305', 'pixel677',\n",
       "       'pixel278', 'pixel722', 'pixel534', 'pixel90', 'pixel772',\n",
       "       'pixel255', 'pixel78', 'pixel333', 'pixel222', 'pixel227',\n",
       "       'pixel39', 'pixel502', 'pixel773', 'pixel557', 'pixel474',\n",
       "       'pixel42', 'pixel668', 'pixel306', 'pixel506', 'pixel38',\n",
       "       'pixel733', 'pixel704', 'pixel41', 'pixel723', 'pixel63',\n",
       "       'pixel765', 'pixel226', 'pixel40', 'pixel89', 'pixel254',\n",
       "       'pixel194', 'pixel641', 'pixel676', 'pixel618', 'pixel43',\n",
       "       'pixel116', 'pixel747', 'pixel613', 'pixel366', 'pixel530',\n",
       "       'pixel748', 'pixel774', 'pixel487', 'pixel478', 'pixel763',\n",
       "       'pixel390', 'pixel338', 'pixel283', 'pixel585', 'pixel446',\n",
       "       'pixel115', 'pixel764', 'pixel310', 'pixel79', 'pixel558',\n",
       "       'pixel37', 'pixel450', 'pixel503', 'pixel198', 'pixel394',\n",
       "       'pixel199', 'pixel62', 'pixel732', 'pixel193', 'pixel88',\n",
       "       'pixel418', 'pixel586', 'pixel108', 'pixel44', 'pixel422',\n",
       "       'pixel363', 'pixel334', 'pixel762', 'pixel675', 'pixel35',\n",
       "       'pixel504', 'pixel253', 'pixel335', 'pixel36', 'pixel643',\n",
       "       'pixel615', 'pixel749', 'pixel137', 'pixel670', 'pixel279',\n",
       "       'pixel87', 'pixel251', 'pixel165', 'pixel531', 'pixel696',\n",
       "       'pixel364', 'pixel307', 'pixel617', 'pixel616', 'pixel588',\n",
       "       'pixel309', 'pixel34', 'pixel475', 'pixel280', 'pixel252',\n",
       "       'pixel391', 'pixel724', 'pixel143', 'pixel281', 'pixel223',\n",
       "       'pixel775', 'pixel195', 'pixel86', 'pixel142', 'pixel59',\n",
       "       'pixel559', 'pixel171', 'pixel58', 'pixel45', 'pixel225',\n",
       "       'pixel646', 'pixel110', 'pixel197', 'pixel419', 'pixel46',\n",
       "       'pixel697', 'pixel170', 'pixel308', 'pixel282', 'pixel447',\n",
       "       'pixel47', 'pixel698', 'pixel752', 'pixel703', 'pixel750',\n",
       "       'pixel49', 'pixel33', 'pixel13', 'pixel336', 'pixel80', 'pixel726',\n",
       "       'pixel32', 'pixel449', 'pixel505', 'pixel776', 'pixel533',\n",
       "       'pixel224', 'pixel50', 'pixel753', 'pixel761', 'pixel61',\n",
       "       'pixel167', 'pixel587', 'pixel114', 'pixel702', 'pixel15',\n",
       "       'pixel14', 'pixel12', 'pixel81'], dtype=object)"
      ]
     },
     "execution_count": 14,
     "metadata": {},
     "output_type": "execute_result"
    }
   ],
   "source": [
    "# Use to identify the top X Principal Components\n",
    "\n",
    "pixel = ['pixel' + str(i) for i in range (0,784)]\n",
    "pixel\n",
    "loading_scores = pd.Series(pca.components_[0], index=pixel)\n",
    "loading_scores\n",
    "sorted_loading_scores = loading_scores.abs().sort_values(ascending=False)\n",
    "top_684_pixels = sorted_loading_scores[0:684].index.values\n",
    "top_684_pixels"
   ]
  },
  {
   "cell_type": "code",
   "execution_count": 15,
   "metadata": {},
   "outputs": [
    {
     "name": "stdout",
     "output_type": "stream",
     "text": [
      "0:00:00.383973\n"
     ]
    }
   ],
   "source": [
    "begin_time = datetime.datetime.now()\n",
    "\n",
    "\n",
    "# 20 variables\n",
    "X = train[['pixel523', 'pixel550', 'pixel551', 'pixel578', 'pixel495',\n",
    "       'pixel496', 'pixel468', 'pixel577', 'pixel522', 'pixel524',\n",
    "       'pixel440', 'pixel467', 'pixel412', 'pixel568', 'pixel456',\n",
    "       'pixel483', 'pixel428', 'pixel484', 'pixel400', 'pixel455']]\n",
    "y = train['label']\n",
    "\n",
    "X_train, X_test, y_train, y_test = train_test_split(X, y, test_size=0.30)\n",
    "\n",
    "rf_Model = RandomForestClassifier(n_estimators = 10 , max_features = 'sqrt', bootstrap = True)\n",
    "rf_model = rf_Model.fit(X_train,y_train)\n",
    "\n",
    "\n",
    "print(datetime.datetime.now() - begin_time)"
   ]
  },
  {
   "cell_type": "code",
   "execution_count": 16,
   "metadata": {},
   "outputs": [
    {
     "data": {
      "text/plain": [
       "0.5188108025360154"
      ]
     },
     "metadata": {},
     "output_type": "display_data"
    },
    {
     "data": {
      "text/plain": [
       "0.008280450591291733"
      ]
     },
     "metadata": {},
     "output_type": "display_data"
    },
    {
     "name": "stdout",
     "output_type": "stream",
     "text": [
      "0:00:00.611371\n"
     ]
    }
   ],
   "source": [
    "# 20 variables cross val\n",
    "begin_time = datetime.datetime.now()\n",
    "\n",
    "scores = cross_val_score(rf_model, X_test, y_test, cv=5)\n",
    "display(scores.mean())\n",
    "display(scores.std())\n",
    "\n",
    "print(datetime.datetime.now() - begin_time)"
   ]
  },
  {
   "cell_type": "code",
   "execution_count": 17,
   "metadata": {},
   "outputs": [
    {
     "name": "stdout",
     "output_type": "stream",
     "text": [
      "0:00:00.508615\n"
     ]
    }
   ],
   "source": [
    "#40 top variables\n",
    "begin_time = datetime.datetime.now()\n",
    "X = train[['pixel523', 'pixel550', 'pixel551', 'pixel578', 'pixel495',\n",
    "       'pixel496', 'pixel468', 'pixel577', 'pixel522', 'pixel524',\n",
    "       'pixel440', 'pixel467', 'pixel412', 'pixel568', 'pixel456',\n",
    "       'pixel483', 'pixel428', 'pixel484', 'pixel400', 'pixel455',\n",
    "       'pixel540', 'pixel511', 'pixel549', 'pixel384', 'pixel512',\n",
    "       'pixel372', 'pixel539', 'pixel441', 'pixel605', 'pixel439',\n",
    "       'pixel427', 'pixel469', 'pixel597', 'pixel413', 'pixel596',\n",
    "       'pixel579', 'pixel345', 'pixel567', 'pixel356', 'pixel385']]\n",
    "y = train['label']\n",
    "\n",
    "X_train, X_test, y_train, y_test = train_test_split(X, y, test_size=0.30)\n",
    "\n",
    "rf_Model = RandomForestClassifier(n_estimators = 10 , max_features = 'sqrt', bootstrap = True)\n",
    "rf_model = rf_Model.fit(X_train,y_train)\n",
    "\n",
    "print(datetime.datetime.now() - begin_time)"
   ]
  },
  {
   "cell_type": "code",
   "execution_count": 18,
   "metadata": {},
   "outputs": [
    {
     "data": {
      "text/plain": [
       "0.6407932969874518"
      ]
     },
     "metadata": {},
     "output_type": "display_data"
    },
    {
     "data": {
      "text/plain": [
       "0.004752296721457699"
      ]
     },
     "metadata": {},
     "output_type": "display_data"
    },
    {
     "name": "stdout",
     "output_type": "stream",
     "text": [
      "0:00:00.789863\n"
     ]
    }
   ],
   "source": [
    "# 40 variables cross val\n",
    "begin_time = datetime.datetime.now()\n",
    "scores = cross_val_score(rf_model, X_test, y_test, cv=5)\n",
    "display(scores.mean())\n",
    "display(scores.std())\n",
    "print(datetime.datetime.now() - begin_time)"
   ]
  },
  {
   "cell_type": "code",
   "execution_count": 19,
   "metadata": {},
   "outputs": [
    {
     "name": "stdout",
     "output_type": "stream",
     "text": [
      "0:00:00.589397\n"
     ]
    }
   ],
   "source": [
    "#60 top variables\n",
    "begin_time = datetime.datetime.now()\n",
    "X = train[['pixel523', 'pixel550', 'pixel551', 'pixel578', 'pixel495',\n",
    "       'pixel496', 'pixel468', 'pixel577', 'pixel522', 'pixel524',\n",
    "       'pixel440', 'pixel467', 'pixel412', 'pixel568', 'pixel456',\n",
    "       'pixel483', 'pixel428', 'pixel484', 'pixel400', 'pixel455',\n",
    "       'pixel540', 'pixel511', 'pixel549', 'pixel384', 'pixel512',\n",
    "       'pixel372', 'pixel539', 'pixel441', 'pixel605', 'pixel439',\n",
    "       'pixel427', 'pixel469', 'pixel597', 'pixel413', 'pixel596',\n",
    "       'pixel579', 'pixel345', 'pixel567', 'pixel356', 'pixel385',\n",
    "       'pixel552', 'pixel569', 'pixel344', 'pixel411', 'pixel317',\n",
    "       'pixel373', 'pixel357', 'pixel497', 'pixel399', 'pixel604',\n",
    "       'pixel494', 'pixel328', 'pixel329', 'pixel576', 'pixel462',\n",
    "       'pixel434', 'pixel606', 'pixel383', 'pixel401', 'pixel300']]\n",
    "y = train['label']\n",
    "\n",
    "X_train, X_test, y_train, y_test = train_test_split(X, y, test_size=0.30, random_state=45)\n",
    "\n",
    "rf_Model = RandomForestClassifier(n_estimators = 10 , max_features = 'sqrt', bootstrap = True ,random_state=45)\n",
    "rf_model = rf_Model.fit(X_train,y_train)\n",
    "\n",
    "print(datetime.datetime.now() - begin_time)\n"
   ]
  },
  {
   "cell_type": "code",
   "execution_count": 20,
   "metadata": {},
   "outputs": [
    {
     "data": {
      "text/plain": [
       "0.7207153946200593"
      ]
     },
     "metadata": {},
     "output_type": "display_data"
    },
    {
     "data": {
      "text/plain": [
       "0.0039415527817768135"
      ]
     },
     "metadata": {},
     "output_type": "display_data"
    },
    {
     "name": "stdout",
     "output_type": "stream",
     "text": [
      "0:00:00.932545\n"
     ]
    }
   ],
   "source": [
    "# 60 variables cross val\n",
    "begin_time = datetime.datetime.now()\n",
    "scores = cross_val_score(rf_model, X_test, y_test, cv=5)\n",
    "display(scores.mean())\n",
    "display(scores.std())\n",
    "print(datetime.datetime.now() - begin_time)"
   ]
  },
  {
   "cell_type": "code",
   "execution_count": 21,
   "metadata": {},
   "outputs": [
    {
     "name": "stdout",
     "output_type": "stream",
     "text": [
      "0:00:00.853717\n"
     ]
    }
   ],
   "source": [
    "#100 top variables\n",
    "\n",
    "begin_time = datetime.datetime.now()\n",
    "X = train[['pixel523', 'pixel550', 'pixel551', 'pixel578', 'pixel495',\n",
    "       'pixel496', 'pixel468', 'pixel577', 'pixel522', 'pixel524',\n",
    "       'pixel440', 'pixel467', 'pixel412', 'pixel568', 'pixel456',\n",
    "       'pixel483', 'pixel428', 'pixel484', 'pixel400', 'pixel455',\n",
    "       'pixel540', 'pixel511', 'pixel549', 'pixel384', 'pixel512',\n",
    "       'pixel372', 'pixel539', 'pixel441', 'pixel605', 'pixel439',\n",
    "       'pixel427', 'pixel469', 'pixel597', 'pixel413', 'pixel596',\n",
    "       'pixel579', 'pixel345', 'pixel567', 'pixel356', 'pixel385',\n",
    "       'pixel552', 'pixel569', 'pixel344', 'pixel411', 'pixel317',\n",
    "       'pixel373', 'pixel357', 'pixel497', 'pixel399', 'pixel604',\n",
    "       'pixel494', 'pixel328', 'pixel329', 'pixel576', 'pixel462',\n",
    "       'pixel434', 'pixel606', 'pixel383', 'pixel401', 'pixel300',\n",
    "       'pixel208', 'pixel290', 'pixel598', 'pixel318', 'pixel289',\n",
    "       'pixel207', 'pixel301', 'pixel371', 'pixel181', 'pixel180',\n",
    "       'pixel541', 'pixel316', 'pixel235', 'pixel595', 'pixel262',\n",
    "       'pixel490', 'pixel272', 'pixel406', 'pixel510', 'pixel482',\n",
    "       'pixel429', 'pixel525', 'pixel538', 'pixel346', 'pixel625',\n",
    "       'pixel244', 'pixel454', 'pixel457', 'pixel485', 'pixel513',\n",
    "       'pixel234', 'pixel273', 'pixel263', 'pixel407', 'pixel466',\n",
    "       'pixel521', 'pixel182', 'pixel355', 'pixel626', 'pixel414']]\n",
    "y = train['label']\n",
    "\n",
    "X_train, X_test, y_train, y_test = train_test_split(X, y, test_size=0.30)\n",
    "\n",
    "rf_Model = RandomForestClassifier(n_estimators = 10 , max_features = 'sqrt', bootstrap = True)\n",
    "rf_model = rf_Model.fit(X_train,y_train)\n",
    "\n",
    "\n",
    "print(datetime.datetime.now() - begin_time)\n"
   ]
  },
  {
   "cell_type": "code",
   "execution_count": 22,
   "metadata": {},
   "outputs": [
    {
     "data": {
      "text/plain": [
       "0.8189666417495429"
      ]
     },
     "metadata": {},
     "output_type": "display_data"
    },
    {
     "data": {
      "text/plain": [
       "0.0038058695572595223"
      ]
     },
     "metadata": {},
     "output_type": "display_data"
    },
    {
     "name": "stdout",
     "output_type": "stream",
     "text": [
      "0:00:01.209766\n"
     ]
    }
   ],
   "source": [
    "# 100 variables cross val\n",
    "\n",
    "begin_time = datetime.datetime.now()\n",
    "\n",
    "scores = cross_val_score(rf_model, X_test, y_test, cv=5)\n",
    "display(scores.mean())\n",
    "display(scores.std())\n",
    "\n",
    "print(datetime.datetime.now() - begin_time)"
   ]
  },
  {
   "cell_type": "code",
   "execution_count": 23,
   "metadata": {},
   "outputs": [
    {
     "name": "stdout",
     "output_type": "stream",
     "text": [
      "0:00:01.916881\n"
     ]
    }
   ],
   "source": [
    "# All variables\n",
    "\n",
    "begin_time = datetime.datetime.now()\n",
    "\n",
    "X = train.drop('label',axis=1)\n",
    "y = train['label']\n",
    "\n",
    "X_train, X_test, y_train, y_test = train_test_split(X, y, test_size=0.30)\n",
    "\n",
    "rf_Model = RandomForestClassifier(n_estimators = 10 , max_features = 'sqrt', bootstrap = True)\n",
    "rf_model = rf_Model.fit(X_train,y_train)\n",
    "\n",
    "print(datetime.datetime.now() - begin_time)\n",
    "\n"
   ]
  },
  {
   "cell_type": "code",
   "execution_count": 24,
   "metadata": {},
   "outputs": [
    {
     "data": {
      "text/plain": [
       "0.9156316756439784"
      ]
     },
     "metadata": {},
     "output_type": "display_data"
    },
    {
     "data": {
      "text/plain": [
       "0.00577298946217908"
      ]
     },
     "metadata": {},
     "output_type": "display_data"
    },
    {
     "name": "stdout",
     "output_type": "stream",
     "text": [
      "0:00:02.504305\n"
     ]
    }
   ],
   "source": [
    "# All variable cross val\n",
    "\n",
    "begin_time = datetime.datetime.now()\n",
    "\n",
    "scores = cross_val_score(rf_model, X_test, y_test, cv=5)\n",
    "display(scores.mean())\n",
    "display(scores.std())\n",
    "\n",
    "print(datetime.datetime.now() - begin_time)"
   ]
  },
  {
   "cell_type": "code",
   "execution_count": 25,
   "metadata": {},
   "outputs": [],
   "source": [
    "#Kaggle Submission\n",
    "X_test = test\n",
    "\n",
    "#pd.DataFrame(rf_model.predict(test)).to_csv('Final_Sub.csv')"
   ]
  },
  {
   "cell_type": "code",
   "execution_count": 26,
   "metadata": {},
   "outputs": [
    {
     "name": "stdout",
     "output_type": "stream",
     "text": [
      "0:00:01.855040\n"
     ]
    }
   ],
   "source": [
    "# All top variables - last 100\n",
    "\n",
    "begin_time = datetime.datetime.now()\n",
    "\n",
    "X = train[['pixel523', 'pixel550', 'pixel551', 'pixel578', 'pixel495',\n",
    "       'pixel496', 'pixel468', 'pixel577', 'pixel522', 'pixel524',\n",
    "       'pixel440', 'pixel467', 'pixel412', 'pixel568', 'pixel456',\n",
    "       'pixel483', 'pixel428', 'pixel484', 'pixel400', 'pixel455',\n",
    "       'pixel540', 'pixel511', 'pixel549', 'pixel384', 'pixel512',\n",
    "       'pixel372', 'pixel539', 'pixel441', 'pixel605', 'pixel439',\n",
    "       'pixel427', 'pixel469', 'pixel597', 'pixel413', 'pixel596',\n",
    "       'pixel579', 'pixel345', 'pixel567', 'pixel356', 'pixel385',\n",
    "       'pixel552', 'pixel569', 'pixel344', 'pixel411', 'pixel317',\n",
    "       'pixel373', 'pixel357', 'pixel497', 'pixel399', 'pixel604',\n",
    "       'pixel494', 'pixel328', 'pixel329', 'pixel576', 'pixel462',\n",
    "       'pixel434', 'pixel606', 'pixel383', 'pixel401', 'pixel300',\n",
    "       'pixel208', 'pixel290', 'pixel598', 'pixel318', 'pixel289',\n",
    "       'pixel207', 'pixel301', 'pixel371', 'pixel181', 'pixel180',\n",
    "       'pixel541', 'pixel316', 'pixel235', 'pixel595', 'pixel262',\n",
    "       'pixel490', 'pixel272', 'pixel406', 'pixel510', 'pixel482',\n",
    "       'pixel429', 'pixel525', 'pixel538', 'pixel346', 'pixel625',\n",
    "       'pixel244', 'pixel454', 'pixel457', 'pixel485', 'pixel513',\n",
    "       'pixel234', 'pixel273', 'pixel263', 'pixel407', 'pixel466',\n",
    "       'pixel521', 'pixel182', 'pixel355', 'pixel626', 'pixel414',\n",
    "       'pixel386', 'pixel435', 'pixel379', 'pixel442', 'pixel215',\n",
    "       'pixel566', 'pixel358', 'pixel624', 'pixel461', 'pixel186',\n",
    "       'pixel426', 'pixel261', 'pixel343', 'pixel603', 'pixel489',\n",
    "       'pixel351', 'pixel179', 'pixel216', 'pixel378', 'pixel209',\n",
    "       'pixel236', 'pixel291', 'pixel433', 'pixel463', 'pixel470',\n",
    "       'pixel323', 'pixel580', 'pixel187', 'pixel330', 'pixel570',\n",
    "       'pixel374', 'pixel154', 'pixel155', 'pixel206', 'pixel185',\n",
    "       'pixel438', 'pixel156', 'pixel518', 'pixel183', 'pixel288',\n",
    "       'pixel243', 'pixel245', 'pixel517', 'pixel632', 'pixel607',\n",
    "       'pixel153', 'pixel599', 'pixel184', 'pixel327', 'pixel157',\n",
    "       'pixel319', 'pixel627', 'pixel295', 'pixel398', 'pixel410',\n",
    "       'pixel296', 'pixel324', 'pixel302', 'pixel553', 'pixel633',\n",
    "       'pixel350', 'pixel498', 'pixel214', 'pixel548', 'pixel271',\n",
    "       'pixel631', 'pixel405', 'pixel491', 'pixel233', 'pixel299',\n",
    "       'pixel188', 'pixel594', 'pixel158', 'pixel315', 'pixel152',\n",
    "       'pixel623', 'pixel402', 'pixel264', 'pixel217', 'pixel352',\n",
    "       'pixel347', 'pixel382', 'pixel370', 'pixel274', 'pixel178',\n",
    "       'pixel509', 'pixel628', 'pixel630', 'pixel537', 'pixel481',\n",
    "       'pixel210', 'pixel268', 'pixel260', 'pixel634', 'pixel322',\n",
    "       'pixel602', 'pixel542', 'pixel575', 'pixel526', 'pixel267',\n",
    "       'pixel493', 'pixel159', 'pixel600', 'pixel205', 'pixel629',\n",
    "       'pixel430', 'pixel415', 'pixel387', 'pixel453', 'pixel237',\n",
    "       'pixel151', 'pixel292', 'pixel545', 'pixel359', 'pixel565',\n",
    "       'pixel443', 'pixel380', 'pixel246', 'pixel458', 'pixel342',\n",
    "       'pixel375', 'pixel287', 'pixel608', 'pixel581', 'pixel213',\n",
    "       'pixel297', 'pixel514', 'pixel486', 'pixel127', 'pixel377',\n",
    "       'pixel128', 'pixel189', 'pixel654', 'pixel601', 'pixel488',\n",
    "       'pixel516', 'pixel331', 'pixel653', 'pixel425', 'pixel571',\n",
    "       'pixel294', 'pixel126', 'pixel471', 'pixel320', 'pixel232',\n",
    "       'pixel242', 'pixel546', 'pixel460', 'pixel622', 'pixel655',\n",
    "       'pixel519', 'pixel354', 'pixel129', 'pixel325', 'pixel160',\n",
    "       'pixel635', 'pixel177', 'pixel408', 'pixel554', 'pixel125',\n",
    "       'pixel652', 'pixel303', 'pixel218', 'pixel593', 'pixel397',\n",
    "       'pixel211', 'pixel150', 'pixel314', 'pixel499', 'pixel656',\n",
    "       'pixel436', 'pixel269', 'pixel465', 'pixel130', 'pixel212',\n",
    "       'pixel259', 'pixel432', 'pixel348', 'pixel204', 'pixel660',\n",
    "       'pixel124', 'pixel464', 'pixel403', 'pixel544', 'pixel275',\n",
    "       'pixel661', 'pixel659', 'pixel657', 'pixel369', 'pixel520',\n",
    "       'pixel658', 'pixel651', 'pixel437', 'pixel266', 'pixel265',\n",
    "       'pixel609', 'pixel190', 'pixel131', 'pixel527', 'pixel161',\n",
    "       'pixel240', 'pixel536', 'pixel349', 'pixel286', 'pixel582',\n",
    "       'pixel508', 'pixel149', 'pixel123', 'pixel636', 'pixel662',\n",
    "       'pixel176', 'pixel712', 'pixel231', 'pixel621', 'pixel564',\n",
    "       'pixel409', 'pixel416', 'pixel341', 'pixel247', 'pixel239',\n",
    "       'pixel713', 'pixel353', 'pixel388', 'pixel480', 'pixel711',\n",
    "       'pixel270', 'pixel444', 'pixel326', 'pixel360', 'pixel99',\n",
    "       'pixel714', 'pixel132', 'pixel555', 'pixel431', 'pixel100',\n",
    "       'pixel710', 'pixel452', 'pixel574', 'pixel472', 'pixel203',\n",
    "       'pixel122', 'pixel98', 'pixel592', 'pixel650', 'pixel332',\n",
    "       'pixel219', 'pixel663', 'pixel376', 'pixel238', 'pixel313',\n",
    "       'pixel572', 'pixel685', 'pixel258', 'pixel162', 'pixel492',\n",
    "       'pixel684', 'pixel543', 'pixel101', 'pixel148', 'pixel404',\n",
    "       'pixel715', 'pixel97', 'pixel424', 'pixel686', 'pixel610',\n",
    "       'pixel175', 'pixel637', 'pixel500', 'pixel709', 'pixel683',\n",
    "       'pixel191', 'pixel304', 'pixel298', 'pixel740', 'pixel102',\n",
    "       'pixel133', 'pixel121', 'pixel739', 'pixel741', 'pixel96',\n",
    "       'pixel583', 'pixel396', 'pixel664', 'pixel620', 'pixel285',\n",
    "       'pixel716', 'pixel230', 'pixel547', 'pixel293', 'pixel742',\n",
    "       'pixel381', 'pixel459', 'pixel528', 'pixel738', 'pixel103',\n",
    "       'pixel321', 'pixel687', 'pixel682', 'pixel368', 'pixel147',\n",
    "       'pixel649', 'pixel95', 'pixel202', 'pixel708', 'pixel163',\n",
    "       'pixel276', 'pixel174', 'pixel638', 'pixel743', 'pixel71',\n",
    "       'pixel120', 'pixel70', 'pixel72', 'pixel665', 'pixel611',\n",
    "       'pixel340', 'pixel737', 'pixel134', 'pixel104', 'pixel563',\n",
    "       'pixel535', 'pixel73', 'pixel69', 'pixel690', 'pixel556',\n",
    "       'pixel691', 'pixel94', 'pixel573', 'pixel717', 'pixel744',\n",
    "       'pixel591', 'pixel312', 'pixel257', 'pixel507', 'pixel146',\n",
    "       'pixel692', 'pixel736', 'pixel707', 'pixel248', 'pixel74',\n",
    "       'pixel68', 'pixel173', 'pixel220', 'pixel201', 'pixel192',\n",
    "       'pixel666', 'pixel105', 'pixel119', 'pixel689', 'pixel639',\n",
    "       'pixel648', 'pixel515', 'pixel93', 'pixel479', 'pixel619',\n",
    "       'pixel229', 'pixel745', 'pixel67', 'pixel693', 'pixel75',\n",
    "       'pixel584', 'pixel284', 'pixel135', 'pixel445', 'pixel417',\n",
    "       'pixel688', 'pixel681', 'pixel164', 'pixel145', 'pixel241',\n",
    "       'pixel735', 'pixel451', 'pixel249', 'pixel473', 'pixel277',\n",
    "       'pixel680', 'pixel92', 'pixel106', 'pixel679', 'pixel706',\n",
    "       'pixel66', 'pixel76', 'pixel389', 'pixel612', 'pixel118',\n",
    "       'pixel694', 'pixel423', 'pixel667', 'pixel720', 'pixel339',\n",
    "       'pixel172', 'pixel200', 'pixel367', 'pixel395', 'pixel746',\n",
    "       'pixel501', 'pixel361', 'pixel770', 'pixel65', 'pixel768',\n",
    "       'pixel767', 'pixel640', 'pixel719', 'pixel311', 'pixel769',\n",
    "       'pixel718', 'pixel734', 'pixel721', 'pixel647', 'pixel678',\n",
    "       'pixel77', 'pixel228', 'pixel221', 'pixel529', 'pixel771',\n",
    "       'pixel136', 'pixel91', 'pixel766', 'pixel144', 'pixel705',\n",
    "       'pixel250', 'pixel117', 'pixel256', 'pixel695', 'pixel64',\n",
    "       'pixel562', 'pixel107', 'pixel590', 'pixel305', 'pixel677',\n",
    "       'pixel278', 'pixel722', 'pixel534', 'pixel90', 'pixel772',\n",
    "       'pixel255', 'pixel78', 'pixel333', 'pixel222', 'pixel227',\n",
    "       'pixel39', 'pixel502', 'pixel773', 'pixel557', 'pixel474',\n",
    "       'pixel42', 'pixel668', 'pixel306', 'pixel506', 'pixel38',\n",
    "       'pixel733', 'pixel704', 'pixel41', 'pixel723', 'pixel63',\n",
    "       'pixel765', 'pixel226', 'pixel40', 'pixel89', 'pixel254',\n",
    "       'pixel194', 'pixel641', 'pixel676', 'pixel618', 'pixel43',\n",
    "       'pixel116', 'pixel747', 'pixel613', 'pixel366', 'pixel530',\n",
    "       'pixel748', 'pixel774', 'pixel487', 'pixel478', 'pixel763',\n",
    "       'pixel390', 'pixel338', 'pixel283', 'pixel585', 'pixel446',\n",
    "       'pixel115', 'pixel764', 'pixel310', 'pixel79', 'pixel558',\n",
    "       'pixel37', 'pixel450', 'pixel503', 'pixel198', 'pixel394',\n",
    "       'pixel199', 'pixel62', 'pixel732', 'pixel193', 'pixel88',\n",
    "       'pixel418', 'pixel586', 'pixel108', 'pixel44', 'pixel422',\n",
    "       'pixel363', 'pixel334', 'pixel762', 'pixel675', 'pixel35',\n",
    "       'pixel504', 'pixel253', 'pixel335', 'pixel36', 'pixel643',\n",
    "       'pixel615', 'pixel749', 'pixel137', 'pixel670', 'pixel279',\n",
    "       'pixel87', 'pixel251', 'pixel165', 'pixel531', 'pixel696',\n",
    "       'pixel364', 'pixel307', 'pixel617', 'pixel616', 'pixel588',\n",
    "       'pixel309', 'pixel34', 'pixel475', 'pixel280', 'pixel252',\n",
    "       'pixel391', 'pixel724', 'pixel143', 'pixel281', 'pixel223',\n",
    "       'pixel775', 'pixel195', 'pixel86', 'pixel142', 'pixel59',\n",
    "       'pixel559', 'pixel171', 'pixel58', 'pixel45', 'pixel225',\n",
    "       'pixel646', 'pixel110', 'pixel197', 'pixel419', 'pixel46',\n",
    "       'pixel697', 'pixel170', 'pixel308', 'pixel282', 'pixel447',\n",
    "       'pixel47', 'pixel698', 'pixel752', 'pixel703', 'pixel750',\n",
    "       'pixel49', 'pixel33', 'pixel13', 'pixel336', 'pixel80', 'pixel726',\n",
    "       'pixel32', 'pixel449', 'pixel505', 'pixel776', 'pixel533',\n",
    "       'pixel224', 'pixel50', 'pixel753', 'pixel761', 'pixel61',\n",
    "       'pixel167', 'pixel587', 'pixel114', 'pixel702', 'pixel15',\n",
    "       'pixel14', 'pixel12', 'pixel81']]\n",
    "y = train['label']\n",
    "\n",
    "X_train, X_test, y_train, y_test = train_test_split(X, y, test_size=0.30)\n",
    "\n",
    "rf_Model = RandomForestClassifier(n_estimators = 10 , max_features = 'sqrt', bootstrap = True)\n",
    "rf_model = rf_Model.fit(X_train,y_train)\n",
    "\n",
    "print(datetime.datetime.now() - begin_time)\n"
   ]
  },
  {
   "cell_type": "code",
   "execution_count": 27,
   "metadata": {},
   "outputs": [
    {
     "data": {
      "text/plain": [
       "0.9092803398145056"
      ]
     },
     "metadata": {},
     "output_type": "display_data"
    },
    {
     "data": {
      "text/plain": [
       "0.005101331715789678"
      ]
     },
     "metadata": {},
     "output_type": "display_data"
    },
    {
     "name": "stdout",
     "output_type": "stream",
     "text": [
      "0:00:02.473364\n"
     ]
    }
   ],
   "source": [
    "# All variable - last 100 cross val\n",
    "\n",
    "begin_time = datetime.datetime.now()\n",
    "\n",
    "scores = cross_val_score(rf_model, X_test, y_test, cv=5)\n",
    "display(scores.mean())\n",
    "display(scores.std())\n",
    "\n",
    "print(datetime.datetime.now() - begin_time)"
   ]
  },
  {
   "cell_type": "code",
   "execution_count": 28,
   "metadata": {},
   "outputs": [
    {
     "data": {
      "text/plain": [
       "0.35047134688206966"
      ]
     },
     "metadata": {},
     "output_type": "display_data"
    },
    {
     "data": {
      "text/plain": [
       "0.009485092307698714"
      ]
     },
     "metadata": {},
     "output_type": "display_data"
    }
   ],
   "source": [
    "# Non scaled PCA variables = the same variables when MinMax and both are better than standard scaling\n",
    "X = train[['pixel523', 'pixel550', 'pixel551', 'pixel578', 'pixel495',\n",
    "       'pixel496', 'pixel468', 'pixel577', 'pixel522', 'pixel524']]\n",
    "\n",
    "y = train['label']\n",
    "\n",
    "X_train, X_test, y_train, y_test = train_test_split(X, y, test_size=0.30, random_state=45)\n",
    "\n",
    "rf_Model = RandomForestClassifier(n_estimators = 10 , max_features = 'sqrt', bootstrap = True ,random_state=45)\n",
    "rf_model = rf_Model.fit(X_train,y_train)\n",
    "\n",
    "\n",
    "scores = cross_val_score(rf_model, X_test, y_test, cv=5)\n",
    "display(scores.mean())\n",
    "display(scores.std())\n"
   ]
  },
  {
   "cell_type": "code",
   "execution_count": null,
   "metadata": {},
   "outputs": [],
   "source": []
  },
  {
   "cell_type": "code",
   "execution_count": 29,
   "metadata": {},
   "outputs": [
    {
     "name": "stdout",
     "output_type": "stream",
     "text": [
      "10\n"
     ]
    },
    {
     "data": {
      "text/plain": [
       "array([4, 3, 7, ..., 5, 0, 9])"
      ]
     },
     "execution_count": 29,
     "metadata": {},
     "output_type": "execute_result"
    }
   ],
   "source": [
    "# All variables K means \n",
    "\n",
    "from sklearn.cluster import MiniBatchKMeans\n",
    "\n",
    "X = train.drop('label',axis=1)\n",
    "\n",
    "y = train['label']\n",
    "\n",
    "X_train, X_test, y_train, y_test = train_test_split(X, y, test_size=0.30, random_state=45)\n",
    "\n",
    "n_digits = len(np.unique(y_train))\n",
    "print(n_digits)\n",
    "\n",
    "# Initialize KMeans model\n",
    "kmeans = MiniBatchKMeans(n_clusters = n_digits)\n",
    "# Fit the model to the training data\n",
    "kmeans = kmeans.fit(X_train)\n",
    "kmeans.labels_\n",
    "\n"
   ]
  },
  {
   "cell_type": "code",
   "execution_count": 30,
   "metadata": {},
   "outputs": [
    {
     "data": {
      "text/plain": [
       "0.4382665573843451"
      ]
     },
     "metadata": {},
     "output_type": "display_data"
    },
    {
     "data": {
      "text/plain": [
       "0.4372862569159026"
      ]
     },
     "metadata": {},
     "output_type": "display_data"
    },
    {
     "data": {
      "text/plain": [
       "0.31129591919506805"
      ]
     },
     "metadata": {},
     "output_type": "display_data"
    }
   ],
   "source": [
    "display(metrics.completeness_score(y_train, kmeans.labels_))\n",
    "display(metrics.v_measure_score(y_train, kmeans.labels_))\n",
    "display(metrics.adjusted_rand_score(y_train, kmeans.labels_))"
   ]
  },
  {
   "cell_type": "code",
   "execution_count": null,
   "metadata": {},
   "outputs": [],
   "source": []
  },
  {
   "cell_type": "code",
   "execution_count": null,
   "metadata": {},
   "outputs": [],
   "source": []
  },
  {
   "cell_type": "code",
   "execution_count": null,
   "metadata": {},
   "outputs": [],
   "source": []
  },
  {
   "cell_type": "code",
   "execution_count": null,
   "metadata": {},
   "outputs": [],
   "source": []
  },
  {
   "cell_type": "code",
   "execution_count": 31,
   "metadata": {},
   "outputs": [
    {
     "name": "stdout",
     "output_type": "stream",
     "text": [
      "10\n"
     ]
    },
    {
     "data": {
      "text/plain": [
       "array([7, 3, 3, ..., 0, 2, 3])"
      ]
     },
     "execution_count": 31,
     "metadata": {},
     "output_type": "execute_result"
    }
   ],
   "source": [
    "# Top 20 principal Components K means\n",
    "\n",
    "from sklearn.cluster import MiniBatchKMeans\n",
    "\n",
    "X = train[['pixel523', 'pixel550', 'pixel551', 'pixel578', 'pixel495',\n",
    "       'pixel496', 'pixel468', 'pixel577', 'pixel522', 'pixel524',\n",
    "       'pixel440', 'pixel467', 'pixel412', 'pixel568', 'pixel456',\n",
    "       'pixel483', 'pixel428', 'pixel484', 'pixel400', 'pixel455']]\n",
    "\n",
    "y = train['label']\n",
    "\n",
    "X_train, X_test, y_train, y_test = train_test_split(X, y, test_size=0.30, random_state=45)\n",
    "\n",
    "n_digits = len(np.unique(y_train))\n",
    "print(n_digits)\n",
    "\n",
    "# Initialize KMeans model\n",
    "kmeans = MiniBatchKMeans(n_clusters = n_digits)\n",
    "# Fit the model to the training data\n",
    "kmeans = kmeans.fit(X_train)\n",
    "kmeans.labels_\n"
   ]
  },
  {
   "cell_type": "code",
   "execution_count": 32,
   "metadata": {},
   "outputs": [
    {
     "data": {
      "text/plain": [
       "0.2175317791725343"
      ]
     },
     "metadata": {},
     "output_type": "display_data"
    },
    {
     "data": {
      "text/plain": [
       "0.20271210313004162"
      ]
     },
     "metadata": {},
     "output_type": "display_data"
    },
    {
     "data": {
      "text/plain": [
       "0.12018955514826393"
      ]
     },
     "metadata": {},
     "output_type": "display_data"
    }
   ],
   "source": [
    "display(metrics.completeness_score(y_train, kmeans.labels_))\n",
    "display(metrics.v_measure_score(y_train, kmeans.labels_))\n",
    "display(metrics.adjusted_rand_score(y_train, kmeans.labels_))"
   ]
  },
  {
   "cell_type": "code",
   "execution_count": null,
   "metadata": {},
   "outputs": [],
   "source": []
  },
  {
   "cell_type": "code",
   "execution_count": null,
   "metadata": {},
   "outputs": [],
   "source": []
  },
  {
   "cell_type": "code",
   "execution_count": null,
   "metadata": {},
   "outputs": [],
   "source": []
  }
 ],
 "metadata": {
  "kernelspec": {
   "display_name": "Python 3",
   "language": "python",
   "name": "python3"
  },
  "language_info": {
   "codemirror_mode": {
    "name": "ipython",
    "version": 3
   },
   "file_extension": ".py",
   "mimetype": "text/x-python",
   "name": "python",
   "nbconvert_exporter": "python",
   "pygments_lexer": "ipython3",
   "version": "3.7.4"
  }
 },
 "nbformat": 4,
 "nbformat_minor": 2
}
