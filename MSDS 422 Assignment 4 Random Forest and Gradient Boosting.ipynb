{
 "cells": [
  {
   "cell_type": "code",
   "execution_count": 207,
   "metadata": {},
   "outputs": [],
   "source": [
    "import pandas as pd\n",
    "from sklearn.ensemble import RandomForestRegressor,GradientBoostingRegressor\n",
    "from sklearn.linear_model import Lasso, ElasticNet\n",
    "import seaborn as sns\n",
    "import numpy as np\n",
    "import matplotlib.pyplot as plt"
   ]
  },
  {
   "cell_type": "code",
   "execution_count": 208,
   "metadata": {},
   "outputs": [],
   "source": [
    "data = pd.read_csv(r'C:\\Users\\Aaron\\OneDrive\\Desktop\\boston.csv')"
   ]
  },
  {
   "cell_type": "code",
   "execution_count": 209,
   "metadata": {},
   "outputs": [
    {
     "name": "stdout",
     "output_type": "stream",
     "text": [
      "<class 'pandas.core.frame.DataFrame'>\n",
      "RangeIndex: 506 entries, 0 to 505\n",
      "Data columns (total 14 columns):\n",
      " #   Column        Non-Null Count  Dtype  \n",
      "---  ------        --------------  -----  \n",
      " 0   neighborhood  506 non-null    object \n",
      " 1   crim          506 non-null    float64\n",
      " 2   zn            506 non-null    float64\n",
      " 3   indus         506 non-null    float64\n",
      " 4   chas          506 non-null    int64  \n",
      " 5   nox           506 non-null    float64\n",
      " 6   rooms         506 non-null    float64\n",
      " 7   age           506 non-null    float64\n",
      " 8   dis           506 non-null    float64\n",
      " 9   rad           506 non-null    int64  \n",
      " 10  tax           506 non-null    int64  \n",
      " 11  ptratio       506 non-null    float64\n",
      " 12  lstat         506 non-null    float64\n",
      " 13  mv            506 non-null    float64\n",
      "dtypes: float64(10), int64(3), object(1)\n",
      "memory usage: 55.5+ KB\n"
     ]
    }
   ],
   "source": [
    "data.info()"
   ]
  },
  {
   "cell_type": "code",
   "execution_count": 210,
   "metadata": {},
   "outputs": [
    {
     "data": {
      "text/plain": [
       "<matplotlib.axes._subplots.AxesSubplot at 0x28a472a3688>"
      ]
     },
     "metadata": {},
     "output_type": "display_data"
    },
    {
     "data": {
      "text/plain": [
       "<matplotlib.axes._subplots.AxesSubplot at 0x28a42292d88>"
      ]
     },
     "metadata": {},
     "output_type": "display_data"
    },
    {
     "data": {
      "image/png": "[encoded data removed]",
      "text/plain": [
       "<Figure size 432x288 with 2 Axes>"
      ]
     },
     "metadata": {
      "needs_background": "light"
     },
     "output_type": "display_data"
    }
   ],
   "source": [
    "plt.subplot(2,2,1);\n",
    "display(sns.distplot(data.mv));\n",
    "\n",
    "plt.subplot(2,2,2);\n",
    "display(sns.distplot(np.log10(data.mv)));"
   ]
  },
  {
   "cell_type": "code",
   "execution_count": 211,
   "metadata": {},
   "outputs": [],
   "source": [
    "#'neighborhood',\n",
    "X = data[['crim','zn','indus','chas','nox','rooms','age','dis','rad','tax','ptratio','lstat']]\n",
    "y = data['mv']"
   ]
  },
  {
   "cell_type": "code",
   "execution_count": 275,
   "metadata": {},
   "outputs": [],
   "source": [
    "from sklearn.model_selection import train_test_split\n",
    "from sklearn import preprocessing\n",
    "X_train, X_test, y_train, y_test = train_test_split(X,y, test_size=.3, random_state=101)"
   ]
  },
  {
   "cell_type": "code",
   "execution_count": 278,
   "metadata": {},
   "outputs": [
    {
     "data": {
      "text/plain": [
       "RandomForestRegressor(bootstrap=True, criterion='mse', max_depth=None,\n",
       "                      max_features='log2', max_leaf_nodes=None,\n",
       "                      min_impurity_decrease=0.0, min_impurity_split=None,\n",
       "                      min_samples_leaf=1, min_samples_split=2,\n",
       "                      min_weight_fraction_leaf=0.0, n_estimators=100,\n",
       "                      n_jobs=None, oob_score=False, random_state=45, verbose=0,\n",
       "                      warm_start=False)"
      ]
     },
     "execution_count": 278,
     "metadata": {},
     "output_type": "execute_result"
    }
   ],
   "source": [
    "#Random Forest Regressor\n",
    "\n",
    "\n",
    "lab_enc = preprocessing.LabelEncoder()\n",
    "\n",
    "y_train = lab_enc.fit_transform(y_train)\n",
    "y_test = lab_enc.fit_transform(y_test)\n",
    "rf_Model = RandomForestRegressor(n_estimators = 100, max_features='log2',bootstrap = True,random_state=45)\n",
    "rf_Model.fit(X_train,y_train)"
   ]
  },
  {
   "cell_type": "code",
   "execution_count": 214,
   "metadata": {},
   "outputs": [
    {
     "data": {
      "text/plain": [
       "False"
      ]
     },
     "execution_count": 214,
     "metadata": {},
     "output_type": "execute_result"
    }
   ],
   "source": [
    "rf_Model.oob_score"
   ]
  },
  {
   "cell_type": "code",
   "execution_count": 279,
   "metadata": {},
   "outputs": [
    {
     "data": {
      "text/plain": [
       "0.9706836887259757"
      ]
     },
     "execution_count": 279,
     "metadata": {},
     "output_type": "execute_result"
    }
   ],
   "source": [
    "rf_Model.score(X_train,y_train)"
   ]
  },
  {
   "cell_type": "code",
   "execution_count": 280,
   "metadata": {},
   "outputs": [
    {
     "data": {
      "text/plain": [
       "-1.1151828504781025"
      ]
     },
     "execution_count": 280,
     "metadata": {},
     "output_type": "execute_result"
    }
   ],
   "source": [
    "rf_Model.score(X_test,y_test)"
   ]
  },
  {
   "cell_type": "code",
   "execution_count": 281,
   "metadata": {},
   "outputs": [],
   "source": [
    "from sklearn.model_selection import cross_val_score\n",
    "scores = cross_val_score(RandomForestRegressor(n_estimators = 100, max_features='log2',bootstrap = True,random_state=45), X_train, y_train, cv=5, scoring='r2')"
   ]
  },
  {
   "cell_type": "code",
   "execution_count": 285,
   "metadata": {},
   "outputs": [
    {
     "data": {
      "text/plain": [
       "0.041957722874889296"
      ]
     },
     "execution_count": 285,
     "metadata": {},
     "output_type": "execute_result"
    }
   ],
   "source": [
    "scores.mean()\n",
    "scores.std()"
   ]
  },
  {
   "cell_type": "code",
   "execution_count": 292,
   "metadata": {},
   "outputs": [],
   "source": [
    "scores = cross_val_score(RandomForestRegressor(n_estimators = 100, max_features='log2',bootstrap = True,random_state=45), X_test, y_test, cv=5, scoring='r2')"
   ]
  },
  {
   "cell_type": "code",
   "execution_count": 293,
   "metadata": {},
   "outputs": [
    {
     "data": {
      "text/plain": [
       "0.06283498191377926"
      ]
     },
     "metadata": {},
     "output_type": "display_data"
    },
    {
     "data": {
      "text/plain": [
       "0.7730853353421392"
      ]
     },
     "metadata": {},
     "output_type": "display_data"
    }
   ],
   "source": [
    "display(scores.std())\n",
    "\n",
    "display(scores.mean())"
   ]
  },
  {
   "cell_type": "code",
   "execution_count": 221,
   "metadata": {},
   "outputs": [
    {
     "data": {
      "text/plain": [
       "0.6031108169849726"
      ]
     },
     "metadata": {},
     "output_type": "display_data"
    },
    {
     "data": {
      "text/plain": [
       "0.03999442455949655"
      ]
     },
     "metadata": {},
     "output_type": "display_data"
    }
   ],
   "source": [
    "#Lasso Regression\n",
    "\n",
    "X_train,X_test, y_train, y_test = train_test_split(X,y, test_size=.3, random_state=101)\n",
    "\n",
    "lassReg = Lasso()\n",
    "lassReg = lassReg.fit(X_train,y_train)\n",
    "\n",
    "scores = cross_val_score(lassReg,X_test,y_test,cv=5,scoring='r2')\n",
    "display(scores.mean())\n",
    "display(scores.std())\n",
    "\n"
   ]
  },
  {
   "cell_type": "code",
   "execution_count": 222,
   "metadata": {},
   "outputs": [
    {
     "data": {
      "text/plain": [
       "0.6058348404155225"
      ]
     },
     "metadata": {},
     "output_type": "display_data"
    },
    {
     "data": {
      "text/plain": [
       "0.036431917659539036"
      ]
     },
     "metadata": {},
     "output_type": "display_data"
    }
   ],
   "source": [
    "#ElasticNet\n",
    "X_train,X_test, y_train, y_test = train_test_split(X,y, test_size=.3, random_state=101)\n",
    "\n",
    "elasReg = ElasticNet()\n",
    "scores = cross_val_score(elasReg,X_test,y_test,cv=5,scoring='r2')\n",
    "display(scores.mean())\n",
    "display(scores.std())\n"
   ]
  },
  {
   "cell_type": "code",
   "execution_count": 266,
   "metadata": {},
   "outputs": [
    {
     "data": {
      "text/plain": [
       "0.8078561728470026"
      ]
     },
     "metadata": {},
     "output_type": "display_data"
    },
    {
     "data": {
      "text/plain": [
       "0.09625982636374678"
      ]
     },
     "metadata": {},
     "output_type": "display_data"
    }
   ],
   "source": [
    "#Gradient Boost Regressor\n",
    "X_train,X_test, y_train, y_test = train_test_split(X,y, test_size=.3, random_state=101)\n",
    "\n",
    "gradientReg = GradientBoostingRegressor(max_depth=4,n_estimators=500,learning_rate=.03,max_features='log2',random_state = 45)\n",
    "scores = cross_val_score(gradientReg,X_test,y_test,cv=5,scoring='r2')\n",
    "display(scores.mean())\n",
    "display(scores.std())\n"
   ]
  },
  {
   "cell_type": "code",
   "execution_count": 269,
   "metadata": {},
   "outputs": [
    {
     "data": {
      "text/plain": [
       "0.8078561728470026"
      ]
     },
     "metadata": {},
     "output_type": "display_data"
    },
    {
     "data": {
      "text/plain": [
       "0.09625982636374678"
      ]
     },
     "metadata": {},
     "output_type": "display_data"
    }
   ],
   "source": [
    "modelGB = gradientReg.fit(X_train,y_train)\n",
    "display(cross_val_score(modelGB,X_test,y_test,cv=5,scoring='r2').mean())\n",
    "display(cross_val_score(modelGB,X_test,y_test,cv=5,scoring='r2').std())"
   ]
  },
  {
   "cell_type": "code",
   "execution_count": 270,
   "metadata": {},
   "outputs": [
    {
     "data": {
      "text/plain": [
       "0.7823891104269529"
      ]
     },
     "metadata": {},
     "output_type": "display_data"
    },
    {
     "data": {
      "text/plain": [
       "0.11099704390298486"
      ]
     },
     "metadata": {},
     "output_type": "display_data"
    }
   ],
   "source": [
    "randForestReg = RandomForestRegressor(n_estimators = 100, max_features='log2',bootstrap = True,random_state=45)\n",
    "modelRFG = randForestReg.fit(X_train,y_train)\n",
    "display(cross_val_score(modelRFG,X_test,y_test,cv=5,scoring='r2').mean())\n",
    "display(cross_val_score(modelRFG,X_test,y_test,cv=5,scoring='r2').std())\n"
   ]
  },
  {
   "cell_type": "code",
   "execution_count": 271,
   "metadata": {},
   "outputs": [
    {
     "data": {
      "text/plain": [
       "array([0.05271703, 0.02062472, 0.04105985, 0.0111263 , 0.1001809 ,\n",
       "       0.21088199, 0.0222372 , 0.06225414, 0.00538868, 0.0233014 ,\n",
       "       0.11919637, 0.33103141])"
      ]
     },
     "execution_count": 271,
     "metadata": {},
     "output_type": "execute_result"
    }
   ],
   "source": [
    "modelGB.feature_importances_"
   ]
  },
  {
   "cell_type": "code",
   "execution_count": 272,
   "metadata": {},
   "outputs": [
    {
     "data": {
      "text/plain": [
       "array([0.07023859, 0.01461743, 0.0661587 , 0.0075361 , 0.07560915,\n",
       "       0.24758354, 0.03836109, 0.06968603, 0.01609631, 0.04669959,\n",
       "       0.06534521, 0.28206827])"
      ]
     },
     "execution_count": 272,
     "metadata": {},
     "output_type": "execute_result"
    }
   ],
   "source": [
    "modelRFG.feature_importances_"
   ]
  },
  {
   "cell_type": "code",
   "execution_count": 273,
   "metadata": {},
   "outputs": [
    {
     "data": {
      "text/plain": [
       "0.5906473123209395"
      ]
     },
     "metadata": {},
     "output_type": "display_data"
    },
    {
     "data": {
      "text/plain": [
       "0.04750256997418907"
      ]
     },
     "metadata": {},
     "output_type": "display_data"
    }
   ],
   "source": [
    "X = data[['rooms','ptratio','lstat']]\n",
    "y = data['mv']\n",
    "\n",
    "X_train,X_test, y_train, y_test = train_test_split(X,y, test_size=.3, random_state=101)\n",
    "\n",
    "lassReg = Lasso()\n",
    "lassReg = lassReg.fit(X_train,y_train)\n",
    "\n",
    "scores = cross_val_score(lassReg,X_test,y_test,cv=5,scoring='r2')\n",
    "display(scores.mean())\n",
    "display(scores.std())\n"
   ]
  },
  {
   "cell_type": "code",
   "execution_count": null,
   "metadata": {},
   "outputs": [],
   "source": []
  }
 ],
 "metadata": {
  "kernelspec": {
   "display_name": "Python 3",
   "language": "python",
   "name": "python3"
  },
  "language_info": {
   "codemirror_mode": {
    "name": "ipython",
    "version": 3
   },
   "file_extension": ".py",
   "mimetype": "text/x-python",
   "name": "python",
   "nbconvert_exporter": "python",
   "pygments_lexer": "ipython3",
   "version": "3.7.4"
  }
 },
 "nbformat": 4,
 "nbformat_minor": 2
}
