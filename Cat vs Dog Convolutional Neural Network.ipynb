{
 "cells": [
  {
   "cell_type": "code",
   "execution_count": 341,
   "metadata": {},
   "outputs": [],
   "source": [
    "import numpy as np\n",
    "import cv2\n",
    "import matplotlib.pyplot as plt\n",
    "import os\n",
    "import tensorflow as tf\n",
    "from tensorflow.keras import layers, models\n",
    "from sklearn.model_selection import train_test_split\n",
    "import datetime\n",
    "import pandas as pd\n",
    "from sklearn.metrics import classification_report\n",
    "\n",
    "DIRECTORY = r'C:\\Users\\User\\Desktop'\n",
    "CATEGORIES = ['cat','dog']\n",
    "\n",
    "data = []\n",
    "\n",
    "for category in CATEGORIES:\n",
    "    path = os.path.join(DIRECTORY, category)\n",
    "    for img in os.listdir(path):\n",
    "        img_path = os.path.join(path, img)\n",
    "        label = CATEGORIES.index(category)\n",
    "        arr = cv2.imread(img_path, cv2.COLOR_BGR2RGB)\n",
    "        new_arr = cv2.resize(arr, (60, 60))\n",
    "        data.append([new_arr, label])"
   ]
  },
  {
   "cell_type": "code",
   "execution_count": 342,
   "metadata": {},
   "outputs": [],
   "source": [
    "import random\n",
    "\n",
    "random.shuffle(data)\n",
    "\n",
    "X = []\n",
    "y = []\n",
    "\n",
    "\n",
    "for features, label in data:\n",
    "    X.append(features)\n",
    "    y.append(label)\n",
    "    \n",
    "\n",
    "X = np.array(X)\n",
    "y = np.array(y)"
   ]
  },
  {
   "cell_type": "code",
   "execution_count": 343,
   "metadata": {},
   "outputs": [],
   "source": [
    "X_train, X_test, y_train, y_test = train_test_split(X,y,test_size=0.45,random_state = 2)"
   ]
  },
  {
   "cell_type": "code",
   "execution_count": 344,
   "metadata": {},
   "outputs": [
    {
     "data": {
      "text/plain": [
       "array([[[ 95, 136, 151],\n",
       "        [ 83, 126, 158],\n",
       "        [ 80, 114, 134],\n",
       "        ...,\n",
       "        [141, 182, 197],\n",
       "        [ 64, 107, 116],\n",
       "        [ 74, 117, 125]],\n",
       "\n",
       "       [[120, 165, 179],\n",
       "        [122, 166, 192],\n",
       "        [155, 195, 214],\n",
       "        ...,\n",
       "        [ 42,  89, 102],\n",
       "        [ 65, 105, 118],\n",
       "        [142, 182, 195]],\n",
       "\n",
       "       [[164, 210, 224],\n",
       "        [157, 196, 215],\n",
       "        [162, 202, 217],\n",
       "        ...,\n",
       "        [136, 180, 192],\n",
       "        [183, 218, 233],\n",
       "        [ 81, 117, 132]],\n",
       "\n",
       "       ...,\n",
       "\n",
       "       [[249, 252, 253],\n",
       "        [187, 195, 198],\n",
       "        [225, 250, 254],\n",
       "        ...,\n",
       "        [132, 181, 202],\n",
       "        [ 93, 138, 161],\n",
       "        [148, 194, 216]],\n",
       "\n",
       "       [[228, 234, 235],\n",
       "        [244, 254, 254],\n",
       "        [220, 250, 253],\n",
       "        ...,\n",
       "        [104, 160, 185],\n",
       "        [115, 164, 186],\n",
       "        [ 86, 136, 158]],\n",
       "\n",
       "       [[214, 234, 233],\n",
       "        [227, 251, 251],\n",
       "        [ 75, 117, 119],\n",
       "        ...,\n",
       "        [110, 166, 185],\n",
       "        [119, 175, 197],\n",
       "        [113, 169, 190]]], dtype=uint8)"
      ]
     },
     "execution_count": 344,
     "metadata": {},
     "output_type": "execute_result"
    }
   ],
   "source": [
    "# What does image look like in array\n",
    "X_train[0]"
   ]
  },
  {
   "cell_type": "code",
   "execution_count": 345,
   "metadata": {},
   "outputs": [
    {
     "data": {
      "image/png": "[encoded data removed]",
      "text/plain": [
       "<Figure size 432x288 with 1 Axes>"
      ]
     },
     "metadata": {
      "needs_background": "light"
     },
     "output_type": "display_data"
    }
   ],
   "source": [
    "#What does Image look like?\n",
    "plt.imshow(X_train[0],cmap=plt.cm.binary)\n",
    "plt.xlabel(CATEGORIES[y_train[0]])\n",
    "plt.show()"
   ]
  },
  {
   "cell_type": "code",
   "execution_count": 346,
   "metadata": {},
   "outputs": [],
   "source": [
    "# Normalizing Data\n",
    "X_train = X_train/255\n",
    "X_test = X_test/255\n",
    "\n",
    "#from sklearn import preprocessing\n",
    "\n",
    "#scaler = preprocessing.StandardScaler().fit(X)\n",
    "#X = scaler.transform(X)\n",
    "#X\n",
    "\n",
    "#nsamples, nx, ny = X.shape\n",
    "#X = X.reshape((nsamples,nx*ny))"
   ]
  },
  {
   "cell_type": "code",
   "execution_count": 347,
   "metadata": {},
   "outputs": [
    {
     "name": "stdout",
     "output_type": "stream",
     "text": [
      "Epoch 1/10\n",
      "430/430 [==============================] - 9s 19ms/step - loss: 0.8024 - accuracy: 0.5373 2s - loss: 0.8307 -  - - ETA: 0s - loss: 0\n",
      "Epoch 2/10\n",
      "430/430 [==============================] - 8s 20ms/step - loss: 0.6895 - accuracy: 0.5674\n",
      "Epoch 3/10\n",
      "430/430 [==============================] - 8s 19ms/step - loss: 0.6773 - accuracy: 0.5761\n",
      "Epoch 4/10\n",
      "430/430 [==============================] - 8s 20ms/step - loss: 0.6622 - accuracy: 0.6058 2s - E\n",
      "Epoch 5/10\n",
      "430/430 [==============================] - 8s 19ms/step - loss: 0.6565 - accuracy: 0.6120 7s - loss: 0.6467 - accuracy - ETA: 6s - loss: 0.6485 - accuracy - ETA: 6s - l - ETA: 5s - loss: 0.6549 - ac - ETA: 5s - loss: 0.6 - ETA: 4s - loss: 0.6578 - accuracy: 0.61 - ETA: 4s - loss: 0.6579 -  - ETA: 4s - loss: 0.6581 - ac - ETA: 3s - loss: 0.6581 - accuracy - ETA: 3s - - ETA: 1s - loss: 0.6572 - accuracy\n",
      "Epoch 6/10\n",
      "430/430 [==============================] - 8s 19ms/step - loss: 0.6525 - accuracy: 0.6141 2s - loss: 0.6523 - accuracy - ETA: 1s - loss:\n",
      "Epoch 7/10\n",
      "430/430 [==============================] - 8s 19ms/step - loss: 0.6477 - accuracy: 0.6151  - ETA: 4s - - ETA: 0s - loss: 0\n",
      "Epoch 8/10\n",
      "430/430 [==============================] - 8s 19ms/step - loss: 0.6382 - accuracy: 0.6319 0s - los\n",
      "Epoch 9/10\n",
      "430/430 [==============================] - 8s 20ms/step - loss: 0.6338 - accuracy: 0.6283 0s - loss: 0.6338 - accuracy: \n",
      "Epoch 10/10\n",
      "430/430 [==============================] - 8s 19ms/step - loss: 0.6260 - accuracy: 0.6445 0s - loss: 0.6259 \n",
      "0:01:24.510658\n"
     ]
    }
   ],
   "source": [
    "#Test on ANN first\n",
    "begin_time = datetime.datetime.now()\n",
    "\n",
    "modelANN = models.Sequential([\n",
    "    layers.Flatten(input_shape =(60,60,3)),\n",
    "    layers.Dense(100,activation='relu'),\n",
    "    layers.Dense(30,activation='relu'),\n",
    "    layers.Dense(2,activation='softmax')\n",
    "])\n",
    "\n",
    "modelANN.compile(optimizer='adam',loss='sparse_categorical_crossentropy',metrics=['accuracy'])\n",
    "modelANN.fit(X_train,y_train,epochs=10)\n",
    "\n",
    "print(datetime.datetime.now() - begin_time)"
   ]
  },
  {
   "cell_type": "code",
   "execution_count": null,
   "metadata": {},
   "outputs": [],
   "source": []
  },
  {
   "cell_type": "code",
   "execution_count": 348,
   "metadata": {},
   "outputs": [
    {
     "name": "stdout",
     "output_type": "stream",
     "text": [
      "352/352 [==============================] - 6s 15ms/step - loss: 0.6626 - accuracy: 0.5972 2s - l\n",
      "              precision    recall  f1-score   support\n",
      "\n",
      "           0       0.56      0.84      0.68      5612\n",
      "           1       0.69      0.35      0.47      5638\n",
      "\n",
      "    accuracy                           0.60     11250\n",
      "   macro avg       0.63      0.60      0.57     11250\n",
      "weighted avg       0.63      0.60      0.57     11250\n",
      "\n"
     ]
    }
   ],
   "source": [
    "\n",
    "modelANN.evaluate(X_test,y_test)\n",
    "y_pred = modelANN.predict(X_test)\n",
    "\n",
    "df = []\n",
    "catDog = [0,1]\n",
    "for i in range(len(X_test)):\n",
    "    df.append(catDog[np.argmax(y_pred[i])])\n",
    "\n",
    "y_pred = df    \n",
    "print(classification_report(y_test,y_pred))"
   ]
  },
  {
   "cell_type": "code",
   "execution_count": null,
   "metadata": {},
   "outputs": [],
   "source": [
    "# Check What Pictures We Got Wrong"
   ]
  },
  {
   "cell_type": "code",
   "execution_count": 350,
   "metadata": {},
   "outputs": [
    {
     "name": "stdout",
     "output_type": "stream",
     "text": [
      "Epoch 1/10\n",
      "430/430 [==============================] - 37s 85ms/step - loss: 0.6588 - accuracy: 0.6104\n",
      "Epoch 2/10\n",
      "430/430 [==============================] - 36s 84ms/step - loss: 0.5010 - accuracy: 0.7534\n",
      "Epoch 3/10\n",
      "430/430 [==============================] - 36s 84ms/step - loss: 0.4391 - accuracy: 0.7976\n",
      "Epoch 4/10\n",
      "430/430 [==============================] - 36s 84ms/step - loss: 0.3617 - accuracy: 0.8368\n",
      "Epoch 5/10\n",
      "430/430 [==============================] - 36s 84ms/step - loss: 0.2870 - accuracy: 0.87831s - los\n",
      "Epoch 6/10\n",
      "430/430 [==============================] - 36s 84ms/step - loss: 0.1932 - accuracy: 0.92380s - loss: 0\n",
      "Epoch 7/10\n",
      "430/430 [==============================] - 37s 86ms/step - loss: 0.1212 - accuracy: 0.9577\n",
      "Epoch 8/10\n",
      "430/430 [==============================] - 36s 84ms/step - loss: 0.0753 - accuracy: 0.9754\n",
      "Epoch 9/10\n",
      "430/430 [==============================] - 36s 84ms/step - loss: 0.0492 - accuracy: 0.9849\n",
      "Epoch 10/10\n",
      "430/430 [==============================] - 36s 85ms/step - loss: 0.0374 - accuracy: 0.9900\n",
      "0:06:04.155989\n"
     ]
    }
   ],
   "source": [
    "# Now adding Convolution and Pooling Layers onto ANN \n",
    "# Convolution does most of the work? Don't need as many hidden networks?\n",
    "\n",
    "begin_time = datetime.datetime.now()\n",
    "\n",
    "modelCNN = models.Sequential([\n",
    "    layers.Conv2D(filters=25, kernel_size=(3,3),activation = 'relu', input_shape=(60,60,3)),\n",
    "    layers.MaxPooling2D((2,2)),\n",
    "    layers.Flatten(),\n",
    "    layers.Dense(100,activation='relu'),\n",
    "    layers.Dense(30,activation='relu'),\n",
    "    layers.Dense(2,activation='softmax')\n",
    "])\n",
    "modelCNN.compile(optimizer='adam',loss='sparse_categorical_crossentropy',metrics=['accuracy'])\n",
    "modelCNN.fit(X_train,y_train,epochs=10)\n",
    "\n",
    "print(datetime.datetime.now() - begin_time)"
   ]
  },
  {
   "cell_type": "code",
   "execution_count": 351,
   "metadata": {},
   "outputs": [
    {
     "name": "stdout",
     "output_type": "stream",
     "text": [
      "352/352 [==============================] - 13s 37ms/step - loss: 1.3744 - accuracy: 0.7296\n"
     ]
    },
    {
     "data": {
      "text/plain": [
       "[1.374426245689392, 0.7296000123023987]"
      ]
     },
     "execution_count": 351,
     "metadata": {},
     "output_type": "execute_result"
    }
   ],
   "source": [
    "modelCNN.evaluate(X_test,y_test)"
   ]
  },
  {
   "cell_type": "code",
   "execution_count": 239,
   "metadata": {},
   "outputs": [
    {
     "name": "stdout",
     "output_type": "stream",
     "text": [
      "Epoch 1/10\n",
      "547/547 [==============================] - 32s 58ms/step - loss: 0.6408 - accuracy: 0.6446\n",
      "Epoch 2/10\n",
      "547/547 [==============================] - 32s 58ms/step - loss: 0.4969 - accuracy: 0.75620s - loss: 0.496\n",
      "Epoch 3/10\n",
      "547/547 [==============================] - 32s 58ms/step - loss: 0.4381 - accuracy: 0.79501s - loss: 0.4 - ETA: 0s - loss: 0.4380 \n",
      "Epoch 4/10\n",
      "547/547 [==============================] - 32s 58ms/step - loss: 0.3777 - accuracy: 0.8303\n",
      "Epoch 5/10\n",
      "547/547 [==============================] - 32s 58ms/step - loss: 0.3206 - accuracy: 0.8623\n",
      "Epoch 6/10\n",
      "547/547 [==============================] - 32s 58ms/step - loss: 0.2587 - accuracy: 0.8952\n",
      "Epoch 7/10\n",
      "547/547 [==============================] - 32s 58ms/step - loss: 0.2111 - accuracy: 0.91780s - loss: 0.2111 - ac\n",
      "Epoch 8/10\n",
      "547/547 [==============================] - 32s 58ms/step - loss: 0.1591 - accuracy: 0.9406\n",
      "Epoch 9/10\n",
      "547/547 [==============================] - 32s 58ms/step - loss: 0.1137 - accuracy: 0.9627\n",
      "Epoch 10/10\n",
      "547/547 [==============================] - 32s 58ms/step - loss: 0.0806 - accuracy: 0.9764\n",
      "0:05:18.960861\n"
     ]
    }
   ],
   "source": [
    "# Remove Hidden Layer\n",
    "\n",
    "begin_time = datetime.datetime.now()\n",
    "\n",
    "modelCNN1 = models.Sequential([\n",
    "    layers.Conv2D(filters=25, kernel_size=(3,3),activation = 'relu', input_shape=(60,60,3)),\n",
    "    layers.MaxPooling2D((2,2)),\n",
    "    layers.Flatten(),\n",
    "    layers.Dense(30,activation='relu'),\n",
    "    layers.Dense(2,activation='softmax')\n",
    "])\n",
    "modelCNN1.compile(optimizer='adam',loss='sparse_categorical_crossentropy',metrics=['accuracy'])\n",
    "modelCNN1.fit(X_train,y_train,epochs=10)\n",
    "\n",
    "print(datetime.datetime.now() - begin_time)"
   ]
  },
  {
   "cell_type": "code",
   "execution_count": 240,
   "metadata": {},
   "outputs": [
    {
     "name": "stdout",
     "output_type": "stream",
     "text": [
      "235/235 [==============================] - 4s 17ms/step - loss: 0.9664 - accuracy: 0.7353\n"
     ]
    },
    {
     "data": {
      "text/plain": [
       "[0.9664469957351685, 0.7353333234786987]"
      ]
     },
     "execution_count": 240,
     "metadata": {},
     "output_type": "execute_result"
    }
   ],
   "source": [
    "modelCNN1.evaluate(X_test,y_test)"
   ]
  },
  {
   "cell_type": "code",
   "execution_count": 352,
   "metadata": {},
   "outputs": [
    {
     "name": "stdout",
     "output_type": "stream",
     "text": [
      "Epoch 1/10\n",
      "430/430 [==============================] - 62s 143ms/step - loss: 0.7006 - accuracy: 0.5304\n",
      "Epoch 2/10\n",
      "430/430 [==============================] - 61s 142ms/step - loss: 0.6437 - accuracy: 0.6256\n",
      "Epoch 3/10\n",
      "430/430 [==============================] - 61s 142ms/step - loss: 0.5995 - accuracy: 0.6823\n",
      "Epoch 4/10\n",
      "430/430 [==============================] - 61s 142ms/step - loss: 0.5435 - accuracy: 0.7268\n",
      "Epoch 5/10\n",
      "430/430 [==============================] - 61s 142ms/step - loss: 0.4881 - accuracy: 0.7585\n",
      "Epoch 6/10\n",
      "430/430 [==============================] - 61s 142ms/step - loss: 0.4253 - accuracy: 0.7950\n",
      "Epoch 7/10\n",
      "430/430 [==============================] - 61s 142ms/step - loss: 0.3583 - accuracy: 0.8352\n",
      "Epoch 8/10\n",
      "430/430 [==============================] - 61s 142ms/step - loss: 0.2789 - accuracy: 0.8791\n",
      "Epoch 9/10\n",
      "430/430 [==============================] - 61s 142ms/step - loss: 0.2169 - accuracy: 0.9096\n",
      "Epoch 10/10\n",
      "430/430 [==============================] - 61s 142ms/step - loss: 0.1607 - accuracy: 0.9380\n",
      "0:10:13.002765\n"
     ]
    }
   ],
   "source": [
    "# Increase Kernel Size and Max Pooling\n",
    "\n",
    "begin_time = datetime.datetime.now()\n",
    "\n",
    "modelCNN2 = models.Sequential([\n",
    "    layers.Conv2D(filters=25, kernel_size=(8,8),activation = 'relu', input_shape=(60,60,3)),\n",
    "    layers.MaxPooling2D((3,3)),\n",
    "    layers.Flatten(),\n",
    "    layers.Dense(30,activation='relu'),\n",
    "    layers.Dense(2,activation='softmax')\n",
    "])\n",
    "modelCNN2.compile(optimizer='adam',loss='sparse_categorical_crossentropy',metrics=['accuracy'])\n",
    "modelCNN2.fit(X_train,y_train,epochs=10)\n",
    "\n",
    "print(datetime.datetime.now() - begin_time)"
   ]
  },
  {
   "cell_type": "code",
   "execution_count": 242,
   "metadata": {},
   "outputs": [
    {
     "name": "stdout",
     "output_type": "stream",
     "text": [
      "235/235 [==============================] - 7s 31ms/step - loss: 0.8434 - accuracy: 0.6923\n"
     ]
    },
    {
     "data": {
      "text/plain": [
       "[0.8433930277824402, 0.6922666430473328]"
      ]
     },
     "execution_count": 242,
     "metadata": {},
     "output_type": "execute_result"
    }
   ],
   "source": [
    "modelCNN2.evaluate(X_test,y_test)"
   ]
  },
  {
   "cell_type": "code",
   "execution_count": 353,
   "metadata": {},
   "outputs": [
    {
     "name": "stdout",
     "output_type": "stream",
     "text": [
      "Epoch 1/5\n",
      "430/430 [==============================] - 123s 283ms/step - loss: 0.6936 - accuracy: 0.5413\n",
      "Epoch 2/5\n",
      "430/430 [==============================] - 121s 281ms/step - loss: 0.5961 - accuracy: 0.6872\n",
      "Epoch 3/5\n",
      "430/430 [==============================] - 121s 280ms/step - loss: 0.5062 - accuracy: 0.7489\n",
      "Epoch 4/5\n",
      "430/430 [==============================] - 121s 280ms/step - loss: 0.4332 - accuracy: 0.7964\n",
      "Epoch 5/5\n",
      "430/430 [==============================] - 121s 281ms/step - loss: 0.3728 - accuracy: 0.8273\n",
      "0:10:05.840238\n"
     ]
    }
   ],
   "source": [
    "# Less filters\n",
    "\n",
    "begin_time = datetime.datetime.now()\n",
    "\n",
    "modelCNN3 = models.Sequential([\n",
    "    layers.Conv2D(filters=32, kernel_size=(3,3),activation = 'relu', input_shape=(60,60,3)),\n",
    "    layers.MaxPooling2D((2,2)),\n",
    "    layers.Conv2D(filters=64, kernel_size=(3,3),activation = 'relu', input_shape=(60,60,3)),\n",
    "    layers.MaxPooling2D((2,2)),\n",
    "    layers.Conv2D(filters=128, kernel_size=(3,3),activation = 'relu', input_shape=(60,60,3)),\n",
    "    layers.MaxPooling2D((2,2)),\n",
    "    layers.Flatten(),\n",
    "    layers.Dense(128,activation='relu'),\n",
    "    layers.Dense(2,activation='softmax')\n",
    "])\n",
    "modelCNN3.compile(optimizer='adam',loss='sparse_categorical_crossentropy',metrics=['accuracy'])\n",
    "modelCNN3.fit(X_train,y_train,epochs=5)\n",
    "\n",
    "print(datetime.datetime.now() - begin_time)\n"
   ]
  },
  {
   "cell_type": "code",
   "execution_count": 354,
   "metadata": {
    "scrolled": true
   },
   "outputs": [
    {
     "name": "stdout",
     "output_type": "stream",
     "text": [
      "352/352 [==============================] - 38s 106ms/step - loss: 0.4808 - accuracy: 0.7688\n"
     ]
    },
    {
     "data": {
      "text/plain": [
       "[0.48083898425102234, 0.7688000202178955]"
      ]
     },
     "execution_count": 354,
     "metadata": {},
     "output_type": "execute_result"
    }
   ],
   "source": [
    "modelCNN3.evaluate(X_test,y_test)"
   ]
  },
  {
   "cell_type": "code",
   "execution_count": null,
   "metadata": {},
   "outputs": [],
   "source": []
  },
  {
   "cell_type": "code",
   "execution_count": 355,
   "metadata": {},
   "outputs": [],
   "source": [
    "def load_images_from_folder(folder):\n",
    "    images = []\n",
    "    for filename in os.listdir(folder):\n",
    "        img = cv2.imread(os.path.join(folder,filename))\n",
    "        img = cv2.resize(img,(60, 60))\n",
    "        if img is not None:\n",
    "            \n",
    "            images.append(img)\n",
    "    return images\n",
    "folder= r'C:\\Users\\User\\Desktop\\test'\n",
    "data = load_images_from_folder(folder)"
   ]
  },
  {
   "cell_type": "code",
   "execution_count": 356,
   "metadata": {},
   "outputs": [],
   "source": [
    "X_test = []\n",
    "\n",
    "for features in data:\n",
    "    X_test.append(features)\n",
    "    \n",
    "\n",
    "X_test = np.array(X_test)\n",
    "\n",
    "# Normalize\n",
    "X_test = X_test/255"
   ]
  },
  {
   "cell_type": "code",
   "execution_count": 357,
   "metadata": {},
   "outputs": [
    {
     "data": {
      "image/png": "[encoded data removed]",
      "text/plain": [
       "<Figure size 432x288 with 1 Axes>"
      ]
     },
     "metadata": {
      "needs_background": "light"
     },
     "output_type": "display_data"
    }
   ],
   "source": [
    "X_test = X_test.reshape(12500,60,60,3)\n",
    "plt.imshow(X_test[0],cmap=plt.cm.binary)\n",
    "plt.show()"
   ]
  },
  {
   "cell_type": "code",
   "execution_count": 358,
   "metadata": {},
   "outputs": [],
   "source": [
    "# Model 4 (2 Convolutinal layers)\n",
    "KagglePred = modelCNN3.predict(X_test)\n",
    "\n",
    "df = []\n",
    "catDog = [0,1]\n",
    "for i in range(len(X_test)):\n",
    "    df.append(KagglePred[i][1])\n",
    "    \n",
    "pd.DataFrame(df).to_csv('Model4.csv')"
   ]
  },
  {
   "cell_type": "code",
   "execution_count": 364,
   "metadata": {},
   "outputs": [
    {
     "data": {
      "image/png": "[encoded data removed]",
      "text/plain": [
       "<Figure size 432x288 with 1 Axes>"
      ]
     },
     "metadata": {
      "needs_background": "light"
     },
     "output_type": "display_data"
    },
    {
     "data": {
      "text/plain": [
       "0.6053018"
      ]
     },
     "metadata": {},
     "output_type": "display_data"
    }
   ],
   "source": [
    "plt.imshow(X_test[5554],cmap=plt.cm.binary)\n",
    "plt.title(catDog[np.argmax(KagglePred[5554])])\n",
    "plt.show()\n",
    "display(KagglePred[5554][1])"
   ]
  },
  {
   "cell_type": "code",
   "execution_count": 215,
   "metadata": {},
   "outputs": [],
   "source": [
    "# Model 3 (1 Convolutinal layer)\n",
    "KagglePred = modelCNN2.predict(X_test)\n",
    "\n",
    "df = []\n",
    "catDog = [0,1]\n",
    "for i in range(len(X_test)):\n",
    "    df.append(catDog[np.argmax(KagglePred[i])])\n",
    "    \n",
    "pd.DataFrame(df).to_csv('Model3.csv')"
   ]
  },
  {
   "cell_type": "code",
   "execution_count": 216,
   "metadata": {},
   "outputs": [],
   "source": [
    "# Model 2 (1 Hidden Layer layer)\n",
    "KagglePred = modelCNN1.predict(X_test)\n",
    "\n",
    "df = []\n",
    "catDog = [0,1]\n",
    "for i in range(len(X_test)):\n",
    "    df.append(catDog[np.argmax(KagglePred[i])])\n",
    "    \n",
    "pd.DataFrame(df).to_csv('Model2.csv')"
   ]
  },
  {
   "cell_type": "code",
   "execution_count": 256,
   "metadata": {},
   "outputs": [],
   "source": [
    "# Model 1 (1 Hidden Layer layer)\n",
    "KagglePred = modelCNN.predict(X_test)\n",
    "\n",
    "df = []\n",
    "catDog = [0,1]\n",
    "for i in range(len(X_test)):\n",
    "    df.append(catDog[np.argmax(KagglePred[i])])\n",
    "    \n",
    "pd.DataFrame(df).to_csv('Model1.csv')"
   ]
  },
  {
   "cell_type": "code",
   "execution_count": 305,
   "metadata": {},
   "outputs": [],
   "source": [
    "# Model ANN \n",
    "KagglePred = modelANN.predict(X_test)\n",
    "\n",
    "df = []\n",
    "catDog = [0,1]\n",
    "for i in range(len(X_test)):\n",
    "    df.append(catDog[np.argmax(KagglePred[i])])\n",
    "    \n",
    "pd.DataFrame(df).to_csv('ModelANN.csv')"
   ]
  },
  {
   "cell_type": "code",
   "execution_count": null,
   "metadata": {},
   "outputs": [],
   "source": [
    "# TRY 2 MODELS WITH MORE PIXELS"
   ]
  },
  {
   "cell_type": "code",
   "execution_count": 221,
   "metadata": {},
   "outputs": [],
   "source": [
    "import numpy as np\n",
    "import cv2\n",
    "import matplotlib.pyplot as plt\n",
    "import os\n",
    "import tensorflow as tf\n",
    "from tensorflow.keras import layers, models\n",
    "from sklearn.model_selection import train_test_split\n",
    "import datetime\n",
    "import pandas as pd\n",
    "\n",
    "DIRECTORY = r'C:\\Users\\User\\Desktop'\n",
    "CATEGORIES = ['cat','dog']\n",
    "\n",
    "data = []\n",
    "\n",
    "for category in CATEGORIES:\n",
    "    path = os.path.join(DIRECTORY, category)\n",
    "    for img in os.listdir(path):\n",
    "        img_path = os.path.join(path, img)\n",
    "        label = CATEGORIES.index(category)\n",
    "        arr = cv2.imread(img_path, cv2.COLOR_BGR2RGB)\n",
    "        new_arr = cv2.resize(arr, (80, 80))\n",
    "        data.append([new_arr, label])"
   ]
  },
  {
   "cell_type": "code",
   "execution_count": 222,
   "metadata": {},
   "outputs": [],
   "source": [
    "random.shuffle(data)\n",
    "\n",
    "X = []\n",
    "y = []\n",
    "\n",
    "\n",
    "for features, label in data:\n",
    "    X.append(features)\n",
    "    y.append(label)\n",
    "    \n",
    "\n",
    "X = np.array(X)\n",
    "y = np.array(y)"
   ]
  },
  {
   "cell_type": "code",
   "execution_count": 223,
   "metadata": {},
   "outputs": [],
   "source": [
    "X_train, X_test, y_train, y_test = train_test_split(X,y,test_size=0.3,random_state = 2)\n",
    "\n",
    "# Normalizing Data\n",
    "X_train = X_train/255\n",
    "X_test = X_test/255"
   ]
  },
  {
   "cell_type": "code",
   "execution_count": 224,
   "metadata": {},
   "outputs": [
    {
     "name": "stdout",
     "output_type": "stream",
     "text": [
      "Epoch 1/10\n",
      "547/547 [==============================] - 25s 37ms/step - loss: 0.6960 - accuracy: 0.5325\n",
      "Epoch 2/10\n",
      "547/547 [==============================] - 20s 37ms/step - loss: 0.6622 - accuracy: 0.6011\n",
      "Epoch 3/10\n",
      "547/547 [==============================] - 20s 36ms/step - loss: 0.6469 - accuracy: 0.6195\n",
      "Epoch 4/10\n",
      "547/547 [==============================] - 19s 35ms/step - loss: 0.6419 - accuracy: 0.6239\n",
      "Epoch 5/10\n",
      "547/547 [==============================] - 20s 36ms/step - loss: 0.6350 - accuracy: 0.6394\n",
      "Epoch 6/10\n",
      "547/547 [==============================] - 20s 36ms/step - loss: 0.6294 - accuracy: 0.6375\n",
      "Epoch 7/10\n",
      "547/547 [==============================] - 20s 36ms/step - loss: 0.6205 - accuracy: 0.6501\n",
      "Epoch 8/10\n",
      "547/547 [==============================] - 20s 36ms/step - loss: 0.6204 - accuracy: 0.6433\n",
      "Epoch 9/10\n",
      "547/547 [==============================] - 20s 36ms/step - loss: 0.6108 - accuracy: 0.6591\n",
      "Epoch 10/10\n",
      "547/547 [==============================] - 20s 36ms/step - loss: 0.6043 - accuracy: 0.6637\n",
      "0:03:26.319306\n"
     ]
    }
   ],
   "source": [
    "#Test on ANN first\n",
    "begin_time = datetime.datetime.now()\n",
    "\n",
    "modelANN = models.Sequential([\n",
    "    layers.Flatten(input_shape =(80,80,3)),\n",
    "    layers.Dense(100,activation='relu'),\n",
    "    layers.Dense(30,activation='relu'),\n",
    "    layers.Dense(2,activation='softmax')\n",
    "])\n",
    "\n",
    "modelANN.compile(optimizer='SGD',loss='sparse_categorical_crossentropy',metrics=['accuracy'])\n",
    "modelANN.fit(X_train,y_train,epochs=10)\n",
    "\n",
    "print(datetime.datetime.now() - begin_time)"
   ]
  },
  {
   "cell_type": "code",
   "execution_count": 225,
   "metadata": {},
   "outputs": [
    {
     "name": "stdout",
     "output_type": "stream",
     "text": [
      "235/235 [==============================] - 8s 32ms/step - loss: 0.6317 - accuracy: 0.6352\n"
     ]
    },
    {
     "data": {
      "text/plain": [
       "[0.631732702255249, 0.635200023651123]"
      ]
     },
     "execution_count": 225,
     "metadata": {},
     "output_type": "execute_result"
    }
   ],
   "source": [
    "modelANN.evaluate(X_test,y_test)"
   ]
  },
  {
   "cell_type": "code",
   "execution_count": 227,
   "metadata": {},
   "outputs": [],
   "source": [
    "def load_images_from_folder(folder):\n",
    "    images = []\n",
    "    for filename in os.listdir(folder):\n",
    "        img = cv2.imread(os.path.join(folder,filename))\n",
    "        img = cv2.resize(img,(80, 80))\n",
    "        if img is not None:\n",
    "            \n",
    "            images.append(img)\n",
    "    return images\n",
    "folder= r'C:\\Users\\User\\Desktop\\test'\n",
    "data = load_images_from_folder(folder)\n",
    "\n",
    "\n",
    "X_test = []\n",
    "\n",
    "for features in data:\n",
    "    X_test.append(features)\n",
    "    \n",
    "\n",
    "X_test = np.array(X_test)\n",
    "X_test = X_test.reshape(12500,80,80,3)\n",
    "\n",
    "# Normalize\n",
    "X_test = X_test/255"
   ]
  },
  {
   "cell_type": "code",
   "execution_count": 228,
   "metadata": {},
   "outputs": [],
   "source": [
    "# Model ANN \n",
    "KagglePred = modelANN.predict(X_test)\n",
    "\n",
    "df = []\n",
    "catDog = [0,1]\n",
    "for i in range(len(X_test)):\n",
    "    df.append(catDog[np.argmax(KagglePred[i])])\n",
    "    \n",
    "pd.DataFrame(df).to_csv('ModelANN.csv')"
   ]
  },
  {
   "cell_type": "code",
   "execution_count": null,
   "metadata": {},
   "outputs": [],
   "source": []
  }
 ],
 "metadata": {
  "kernelspec": {
   "display_name": "Python 3",
   "language": "python",
   "name": "python3"
  },
  "language_info": {
   "codemirror_mode": {
    "name": "ipython",
    "version": 3
   },
   "file_extension": ".py",
   "mimetype": "text/x-python",
   "name": "python",
   "nbconvert_exporter": "python",
   "pygments_lexer": "ipython3",
   "version": "3.7.4"
  }
 },
 "nbformat": 4,
 "nbformat_minor": 2
}
